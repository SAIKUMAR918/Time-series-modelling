{
 "cells": [
  {
   "cell_type": "markdown",
   "id": "5cc5ca43",
   "metadata": {},
   "source": [
    "### Problem Statement\n",
    "\n",
    "\n",
    "A multinational e-commerce company idenified a segment of products which are showing less sales when comapred to other class of products. As the prices of those products are volatile periodically based on demand and other economic factors, if they quote right price on time then the chance of incrasing sales is very high. \n",
    "\n",
    "They want to understand what is right price to quote on a given period for each product which will help them to increase the sales. The given data contains historical data of a product. Perform time series analysis and forecast the price."
   ]
  },
  {
   "cell_type": "code",
   "execution_count": 2,
   "id": "a588711a",
   "metadata": {},
   "outputs": [],
   "source": [
    "# Load the libraries\n",
    "import pandas as pd \n",
    "import numpy as np\n",
    "import matplotlib.pyplot as plt \n"
   ]
  },
  {
   "cell_type": "code",
   "execution_count": 3,
   "id": "97a3b67d",
   "metadata": {},
   "outputs": [],
   "source": [
    "data = pd.read_csv(\"C:/Users/gsk44/Downloads/TimeSeries.csv\") # Reading the data "
   ]
  },
  {
   "cell_type": "code",
   "execution_count": 4,
   "id": "da5aa95d",
   "metadata": {},
   "outputs": [
    {
     "data": {
      "text/plain": [
       "(19657, 3)"
      ]
     },
     "execution_count": 4,
     "metadata": {},
     "output_type": "execute_result"
    }
   ],
   "source": [
    "data.shape  # check how many rows and columns"
   ]
  },
  {
   "cell_type": "code",
   "execution_count": 5,
   "id": "d85c8f82",
   "metadata": {},
   "outputs": [
    {
     "data": {
      "text/html": [
       "<div>\n",
       "<style scoped>\n",
       "    .dataframe tbody tr th:only-of-type {\n",
       "        vertical-align: middle;\n",
       "    }\n",
       "\n",
       "    .dataframe tbody tr th {\n",
       "        vertical-align: top;\n",
       "    }\n",
       "\n",
       "    .dataframe thead th {\n",
       "        text-align: right;\n",
       "    }\n",
       "</style>\n",
       "<table border=\"1\" class=\"dataframe\">\n",
       "  <thead>\n",
       "    <tr style=\"text-align: right;\">\n",
       "      <th></th>\n",
       "      <th>SKU</th>\n",
       "      <th>Price</th>\n",
       "      <th>Date</th>\n",
       "    </tr>\n",
       "  </thead>\n",
       "  <tbody>\n",
       "    <tr>\n",
       "      <th>0</th>\n",
       "      <td>1</td>\n",
       "      <td>129.98</td>\n",
       "      <td>01-06-2009</td>\n",
       "    </tr>\n",
       "    <tr>\n",
       "      <th>1</th>\n",
       "      <td>2</td>\n",
       "      <td>57.96</td>\n",
       "      <td>01-06-2009</td>\n",
       "    </tr>\n",
       "    <tr>\n",
       "      <th>2</th>\n",
       "      <td>3</td>\n",
       "      <td>84.38</td>\n",
       "      <td>08-12-2009</td>\n",
       "    </tr>\n",
       "    <tr>\n",
       "      <th>3</th>\n",
       "      <td>1</td>\n",
       "      <td>159.96</td>\n",
       "      <td>08-12-2009</td>\n",
       "    </tr>\n",
       "    <tr>\n",
       "      <th>4</th>\n",
       "      <td>2</td>\n",
       "      <td>56.98</td>\n",
       "      <td>08-12-2009</td>\n",
       "    </tr>\n",
       "  </tbody>\n",
       "</table>\n",
       "</div>"
      ],
      "text/plain": [
       "   SKU   Price        Date\n",
       "0    1  129.98  01-06-2009\n",
       "1    2   57.96  01-06-2009\n",
       "2    3   84.38  08-12-2009\n",
       "3    1  159.96  08-12-2009\n",
       "4    2   56.98  08-12-2009"
      ]
     },
     "execution_count": 5,
     "metadata": {},
     "output_type": "execute_result"
    }
   ],
   "source": [
    "data.head() # check the top 5 records"
   ]
  },
  {
   "cell_type": "code",
   "execution_count": 6,
   "id": "c39da437",
   "metadata": {},
   "outputs": [
    {
     "name": "stdout",
     "output_type": "stream",
     "text": [
      "<class 'pandas.core.frame.DataFrame'>\n",
      "RangeIndex: 19657 entries, 0 to 19656\n",
      "Data columns (total 3 columns):\n",
      " #   Column  Non-Null Count  Dtype  \n",
      "---  ------  --------------  -----  \n",
      " 0   SKU     19657 non-null  int64  \n",
      " 1   Price   19657 non-null  float64\n",
      " 2   Date    19657 non-null  object \n",
      "dtypes: float64(1), int64(1), object(1)\n",
      "memory usage: 460.8+ KB\n"
     ]
    }
   ],
   "source": [
    "data.info() # check the data information"
   ]
  },
  {
   "cell_type": "code",
   "execution_count": 7,
   "id": "9ed4a9ec",
   "metadata": {},
   "outputs": [
    {
     "data": {
      "text/plain": [
       "1    6997\n",
       "2    6812\n",
       "3    5848\n",
       "Name: SKU, dtype: int64"
      ]
     },
     "execution_count": 7,
     "metadata": {},
     "output_type": "execute_result"
    }
   ],
   "source": [
    "data.SKU.value_counts() # check the frequency"
   ]
  },
  {
   "cell_type": "code",
   "execution_count": 8,
   "id": "d708192a",
   "metadata": {},
   "outputs": [
    {
     "data": {
      "text/plain": [
       "SKU        int64\n",
       "Price    float64\n",
       "Date      object\n",
       "dtype: object"
      ]
     },
     "execution_count": 8,
     "metadata": {},
     "output_type": "execute_result"
    }
   ],
   "source": [
    "data.dtypes # check the data types"
   ]
  },
  {
   "cell_type": "markdown",
   "id": "b1f39e81",
   "metadata": {},
   "source": [
    "### Basic Data preprocessing"
   ]
  },
  {
   "cell_type": "code",
   "execution_count": 9,
   "id": "f0d4538b",
   "metadata": {},
   "outputs": [],
   "source": [
    "data['SKU'] = data['SKU'].astype('category') # Convert 'SKU' variable to category\n",
    "data['date'] = pd.to_datetime(data['Date'],format='%d-%m-%Y') # Convert date variable into Date format "
   ]
  },
  {
   "cell_type": "code",
   "execution_count": 10,
   "id": "621ef079",
   "metadata": {},
   "outputs": [
    {
     "data": {
      "text/html": [
       "<div>\n",
       "<style scoped>\n",
       "    .dataframe tbody tr th:only-of-type {\n",
       "        vertical-align: middle;\n",
       "    }\n",
       "\n",
       "    .dataframe tbody tr th {\n",
       "        vertical-align: top;\n",
       "    }\n",
       "\n",
       "    .dataframe thead th {\n",
       "        text-align: right;\n",
       "    }\n",
       "</style>\n",
       "<table border=\"1\" class=\"dataframe\">\n",
       "  <thead>\n",
       "    <tr style=\"text-align: right;\">\n",
       "      <th></th>\n",
       "      <th>Price</th>\n",
       "    </tr>\n",
       "  </thead>\n",
       "  <tbody>\n",
       "    <tr>\n",
       "      <th>count</th>\n",
       "      <td>19657.000000</td>\n",
       "    </tr>\n",
       "    <tr>\n",
       "      <th>mean</th>\n",
       "      <td>80.625467</td>\n",
       "    </tr>\n",
       "    <tr>\n",
       "      <th>std</th>\n",
       "      <td>37.894582</td>\n",
       "    </tr>\n",
       "    <tr>\n",
       "      <th>min</th>\n",
       "      <td>20.270000</td>\n",
       "    </tr>\n",
       "    <tr>\n",
       "      <th>25%</th>\n",
       "      <td>50.150000</td>\n",
       "    </tr>\n",
       "    <tr>\n",
       "      <th>50%</th>\n",
       "      <td>70.970000</td>\n",
       "    </tr>\n",
       "    <tr>\n",
       "      <th>75%</th>\n",
       "      <td>105.000000</td>\n",
       "    </tr>\n",
       "    <tr>\n",
       "      <th>max</th>\n",
       "      <td>999.000000</td>\n",
       "    </tr>\n",
       "  </tbody>\n",
       "</table>\n",
       "</div>"
      ],
      "text/plain": [
       "              Price\n",
       "count  19657.000000\n",
       "mean      80.625467\n",
       "std       37.894582\n",
       "min       20.270000\n",
       "25%       50.150000\n",
       "50%       70.970000\n",
       "75%      105.000000\n",
       "max      999.000000"
      ]
     },
     "execution_count": 10,
     "metadata": {},
     "output_type": "execute_result"
    }
   ],
   "source": [
    "data.describe() # check the summary of the data "
   ]
  },
  {
   "cell_type": "code",
   "execution_count": 11,
   "id": "7050db69",
   "metadata": {},
   "outputs": [
    {
     "data": {
      "text/html": [
       "<div>\n",
       "<style scoped>\n",
       "    .dataframe tbody tr th:only-of-type {\n",
       "        vertical-align: middle;\n",
       "    }\n",
       "\n",
       "    .dataframe tbody tr th {\n",
       "        vertical-align: top;\n",
       "    }\n",
       "\n",
       "    .dataframe thead th {\n",
       "        text-align: right;\n",
       "    }\n",
       "</style>\n",
       "<table border=\"1\" class=\"dataframe\">\n",
       "  <thead>\n",
       "    <tr style=\"text-align: right;\">\n",
       "      <th></th>\n",
       "      <th>SKU</th>\n",
       "      <th>Price</th>\n",
       "      <th>Date</th>\n",
       "      <th>date</th>\n",
       "    </tr>\n",
       "  </thead>\n",
       "  <tbody>\n",
       "    <tr>\n",
       "      <th>3441</th>\n",
       "      <td>3</td>\n",
       "      <td>999.0</td>\n",
       "      <td>24-08-2010</td>\n",
       "      <td>2010-08-24</td>\n",
       "    </tr>\n",
       "  </tbody>\n",
       "</table>\n",
       "</div>"
      ],
      "text/plain": [
       "     SKU  Price        Date       date\n",
       "3441   3  999.0  24-08-2010 2010-08-24"
      ]
     },
     "execution_count": 11,
     "metadata": {},
     "output_type": "execute_result"
    }
   ],
   "source": [
    "data[data.Price==999] # checking how many rows are with price:999"
   ]
  },
  {
   "cell_type": "code",
   "execution_count": 12,
   "id": "2def8320",
   "metadata": {},
   "outputs": [],
   "source": [
    "# removing the records with price more  than 999\n",
    "data = data[data.Price!=999]"
   ]
  },
  {
   "cell_type": "code",
   "execution_count": 13,
   "id": "b0a39f00",
   "metadata": {},
   "outputs": [
    {
     "data": {
      "text/html": [
       "<div>\n",
       "<style scoped>\n",
       "    .dataframe tbody tr th:only-of-type {\n",
       "        vertical-align: middle;\n",
       "    }\n",
       "\n",
       "    .dataframe tbody tr th {\n",
       "        vertical-align: top;\n",
       "    }\n",
       "\n",
       "    .dataframe thead th {\n",
       "        text-align: right;\n",
       "    }\n",
       "</style>\n",
       "<table border=\"1\" class=\"dataframe\">\n",
       "  <thead>\n",
       "    <tr style=\"text-align: right;\">\n",
       "      <th></th>\n",
       "      <th>Price</th>\n",
       "    </tr>\n",
       "  </thead>\n",
       "  <tbody>\n",
       "    <tr>\n",
       "      <th>count</th>\n",
       "      <td>5847.000000</td>\n",
       "    </tr>\n",
       "    <tr>\n",
       "      <th>mean</th>\n",
       "      <td>73.142588</td>\n",
       "    </tr>\n",
       "    <tr>\n",
       "      <th>std</th>\n",
       "      <td>17.943083</td>\n",
       "    </tr>\n",
       "    <tr>\n",
       "      <th>min</th>\n",
       "      <td>39.840000</td>\n",
       "    </tr>\n",
       "    <tr>\n",
       "      <th>25%</th>\n",
       "      <td>60.000000</td>\n",
       "    </tr>\n",
       "    <tr>\n",
       "      <th>50%</th>\n",
       "      <td>72.250000</td>\n",
       "    </tr>\n",
       "    <tr>\n",
       "      <th>75%</th>\n",
       "      <td>83.750000</td>\n",
       "    </tr>\n",
       "    <tr>\n",
       "      <th>max</th>\n",
       "      <td>379.800000</td>\n",
       "    </tr>\n",
       "  </tbody>\n",
       "</table>\n",
       "</div>"
      ],
      "text/plain": [
       "             Price\n",
       "count  5847.000000\n",
       "mean     73.142588\n",
       "std      17.943083\n",
       "min      39.840000\n",
       "25%      60.000000\n",
       "50%      72.250000\n",
       "75%      83.750000\n",
       "max     379.800000"
      ]
     },
     "execution_count": 13,
     "metadata": {},
     "output_type": "execute_result"
    }
   ],
   "source": [
    "# Let us focus on speciffic product. So, filter the data only for one particular SKU\n",
    "df1 = data[data.SKU==3]\n",
    "df1.shape\n",
    "df1.describe()\n"
   ]
  },
  {
   "cell_type": "code",
   "execution_count": 14,
   "id": "c48ca651",
   "metadata": {},
   "outputs": [
    {
     "data": {
      "text/html": [
       "<div>\n",
       "<style scoped>\n",
       "    .dataframe tbody tr th:only-of-type {\n",
       "        vertical-align: middle;\n",
       "    }\n",
       "\n",
       "    .dataframe tbody tr th {\n",
       "        vertical-align: top;\n",
       "    }\n",
       "\n",
       "    .dataframe thead th {\n",
       "        text-align: right;\n",
       "    }\n",
       "</style>\n",
       "<table border=\"1\" class=\"dataframe\">\n",
       "  <thead>\n",
       "    <tr style=\"text-align: right;\">\n",
       "      <th></th>\n",
       "      <th>SKU</th>\n",
       "      <th>Price</th>\n",
       "      <th>Date</th>\n",
       "      <th>date</th>\n",
       "    </tr>\n",
       "  </thead>\n",
       "  <tbody>\n",
       "    <tr>\n",
       "      <th>2</th>\n",
       "      <td>3</td>\n",
       "      <td>84.38</td>\n",
       "      <td>08-12-2009</td>\n",
       "      <td>2009-12-08</td>\n",
       "    </tr>\n",
       "    <tr>\n",
       "      <th>11</th>\n",
       "      <td>3</td>\n",
       "      <td>115.98</td>\n",
       "      <td>01-06-2009</td>\n",
       "      <td>2009-06-01</td>\n",
       "    </tr>\n",
       "    <tr>\n",
       "      <th>22</th>\n",
       "      <td>3</td>\n",
       "      <td>115.98</td>\n",
       "      <td>02-06-2009</td>\n",
       "      <td>2009-06-02</td>\n",
       "    </tr>\n",
       "    <tr>\n",
       "      <th>23</th>\n",
       "      <td>3</td>\n",
       "      <td>84.38</td>\n",
       "      <td>09-12-2009</td>\n",
       "      <td>2009-12-09</td>\n",
       "    </tr>\n",
       "    <tr>\n",
       "      <th>35</th>\n",
       "      <td>3</td>\n",
       "      <td>115.98</td>\n",
       "      <td>03-06-2009</td>\n",
       "      <td>2009-06-03</td>\n",
       "    </tr>\n",
       "  </tbody>\n",
       "</table>\n",
       "</div>"
      ],
      "text/plain": [
       "   SKU   Price        Date       date\n",
       "2    3   84.38  08-12-2009 2009-12-08\n",
       "11   3  115.98  01-06-2009 2009-06-01\n",
       "22   3  115.98  02-06-2009 2009-06-02\n",
       "23   3   84.38  09-12-2009 2009-12-09\n",
       "35   3  115.98  03-06-2009 2009-06-03"
      ]
     },
     "execution_count": 14,
     "metadata": {},
     "output_type": "execute_result"
    }
   ],
   "source": [
    "df1.head()"
   ]
  },
  {
   "cell_type": "code",
   "execution_count": 15,
   "id": "8a015313",
   "metadata": {},
   "outputs": [],
   "source": [
    "# As all records are from the same SKU, let us delete this variable\n",
    "df1 = df1.drop([\"SKU\",'Date'], axis=1)"
   ]
  },
  {
   "cell_type": "code",
   "execution_count": 16,
   "id": "4b3e1f80",
   "metadata": {},
   "outputs": [],
   "source": [
    "sorted_data = df1.sort_values('date',ascending=True) # sort the data in the descending order \n"
   ]
  },
  {
   "cell_type": "code",
   "execution_count": 17,
   "id": "040da6f9",
   "metadata": {},
   "outputs": [],
   "source": [
    "unique_data = pd.DataFrame(sorted_data.groupby(['date'],as_index=False)['Price'].min())"
   ]
  },
  {
   "cell_type": "code",
   "execution_count": 18,
   "id": "60bbc0b9",
   "metadata": {},
   "outputs": [
    {
     "data": {
      "text/html": [
       "<div>\n",
       "<style scoped>\n",
       "    .dataframe tbody tr th:only-of-type {\n",
       "        vertical-align: middle;\n",
       "    }\n",
       "\n",
       "    .dataframe tbody tr th {\n",
       "        vertical-align: top;\n",
       "    }\n",
       "\n",
       "    .dataframe thead th {\n",
       "        text-align: right;\n",
       "    }\n",
       "</style>\n",
       "<table border=\"1\" class=\"dataframe\">\n",
       "  <thead>\n",
       "    <tr style=\"text-align: right;\">\n",
       "      <th></th>\n",
       "      <th>date</th>\n",
       "      <th>Price</th>\n",
       "    </tr>\n",
       "  </thead>\n",
       "  <tbody>\n",
       "    <tr>\n",
       "      <th>0</th>\n",
       "      <td>2009-04-15</td>\n",
       "      <td>58.65</td>\n",
       "    </tr>\n",
       "    <tr>\n",
       "      <th>1</th>\n",
       "      <td>2009-04-16</td>\n",
       "      <td>58.65</td>\n",
       "    </tr>\n",
       "    <tr>\n",
       "      <th>2</th>\n",
       "      <td>2009-04-17</td>\n",
       "      <td>58.65</td>\n",
       "    </tr>\n",
       "    <tr>\n",
       "      <th>3</th>\n",
       "      <td>2009-04-18</td>\n",
       "      <td>79.64</td>\n",
       "    </tr>\n",
       "    <tr>\n",
       "      <th>4</th>\n",
       "      <td>2009-05-30</td>\n",
       "      <td>115.98</td>\n",
       "    </tr>\n",
       "  </tbody>\n",
       "</table>\n",
       "</div>"
      ],
      "text/plain": [
       "        date   Price\n",
       "0 2009-04-15   58.65\n",
       "1 2009-04-16   58.65\n",
       "2 2009-04-17   58.65\n",
       "3 2009-04-18   79.64\n",
       "4 2009-05-30  115.98"
      ]
     },
     "execution_count": 18,
     "metadata": {},
     "output_type": "execute_result"
    }
   ],
   "source": [
    "unique_data.head()"
   ]
  },
  {
   "cell_type": "code",
   "execution_count": 19,
   "id": "c6cb66ac",
   "metadata": {},
   "outputs": [
    {
     "name": "stdout",
     "output_type": "stream",
     "text": [
      "2009-04-15 00:00:00\n",
      "2013-12-02 00:00:00\n"
     ]
    }
   ],
   "source": [
    "# get the min and max of data \n",
    "\n",
    "minDate = min(unique_data.date)\n",
    "maxDate = max(unique_data.date)\n",
    "print(minDate)\n",
    "print(maxDate)"
   ]
  },
  {
   "cell_type": "code",
   "execution_count": 20,
   "id": "bee8522a",
   "metadata": {},
   "outputs": [],
   "source": [
    "# Creating the data sequence\n",
    "seq = pd.DataFrame(pd.date_range(minDate,maxDate))"
   ]
  },
  {
   "cell_type": "code",
   "execution_count": 21,
   "id": "c4313286",
   "metadata": {},
   "outputs": [
    {
     "data": {
      "text/html": [
       "<div>\n",
       "<style scoped>\n",
       "    .dataframe tbody tr th:only-of-type {\n",
       "        vertical-align: middle;\n",
       "    }\n",
       "\n",
       "    .dataframe tbody tr th {\n",
       "        vertical-align: top;\n",
       "    }\n",
       "\n",
       "    .dataframe thead th {\n",
       "        text-align: right;\n",
       "    }\n",
       "</style>\n",
       "<table border=\"1\" class=\"dataframe\">\n",
       "  <thead>\n",
       "    <tr style=\"text-align: right;\">\n",
       "      <th></th>\n",
       "      <th>0</th>\n",
       "    </tr>\n",
       "  </thead>\n",
       "  <tbody>\n",
       "    <tr>\n",
       "      <th>0</th>\n",
       "      <td>2009-04-15</td>\n",
       "    </tr>\n",
       "    <tr>\n",
       "      <th>1</th>\n",
       "      <td>2009-04-16</td>\n",
       "    </tr>\n",
       "    <tr>\n",
       "      <th>2</th>\n",
       "      <td>2009-04-17</td>\n",
       "    </tr>\n",
       "    <tr>\n",
       "      <th>3</th>\n",
       "      <td>2009-04-18</td>\n",
       "    </tr>\n",
       "    <tr>\n",
       "      <th>4</th>\n",
       "      <td>2009-04-19</td>\n",
       "    </tr>\n",
       "    <tr>\n",
       "      <th>5</th>\n",
       "      <td>2009-04-20</td>\n",
       "    </tr>\n",
       "    <tr>\n",
       "      <th>6</th>\n",
       "      <td>2009-04-21</td>\n",
       "    </tr>\n",
       "    <tr>\n",
       "      <th>7</th>\n",
       "      <td>2009-04-22</td>\n",
       "    </tr>\n",
       "    <tr>\n",
       "      <th>8</th>\n",
       "      <td>2009-04-23</td>\n",
       "    </tr>\n",
       "    <tr>\n",
       "      <th>9</th>\n",
       "      <td>2009-04-24</td>\n",
       "    </tr>\n",
       "    <tr>\n",
       "      <th>10</th>\n",
       "      <td>2009-04-25</td>\n",
       "    </tr>\n",
       "    <tr>\n",
       "      <th>11</th>\n",
       "      <td>2009-04-26</td>\n",
       "    </tr>\n",
       "    <tr>\n",
       "      <th>12</th>\n",
       "      <td>2009-04-27</td>\n",
       "    </tr>\n",
       "    <tr>\n",
       "      <th>13</th>\n",
       "      <td>2009-04-28</td>\n",
       "    </tr>\n",
       "    <tr>\n",
       "      <th>14</th>\n",
       "      <td>2009-04-29</td>\n",
       "    </tr>\n",
       "    <tr>\n",
       "      <th>15</th>\n",
       "      <td>2009-04-30</td>\n",
       "    </tr>\n",
       "    <tr>\n",
       "      <th>16</th>\n",
       "      <td>2009-05-01</td>\n",
       "    </tr>\n",
       "    <tr>\n",
       "      <th>17</th>\n",
       "      <td>2009-05-02</td>\n",
       "    </tr>\n",
       "    <tr>\n",
       "      <th>18</th>\n",
       "      <td>2009-05-03</td>\n",
       "    </tr>\n",
       "    <tr>\n",
       "      <th>19</th>\n",
       "      <td>2009-05-04</td>\n",
       "    </tr>\n",
       "  </tbody>\n",
       "</table>\n",
       "</div>"
      ],
      "text/plain": [
       "            0\n",
       "0  2009-04-15\n",
       "1  2009-04-16\n",
       "2  2009-04-17\n",
       "3  2009-04-18\n",
       "4  2009-04-19\n",
       "5  2009-04-20\n",
       "6  2009-04-21\n",
       "7  2009-04-22\n",
       "8  2009-04-23\n",
       "9  2009-04-24\n",
       "10 2009-04-25\n",
       "11 2009-04-26\n",
       "12 2009-04-27\n",
       "13 2009-04-28\n",
       "14 2009-04-29\n",
       "15 2009-04-30\n",
       "16 2009-05-01\n",
       "17 2009-05-02\n",
       "18 2009-05-03\n",
       "19 2009-05-04"
      ]
     },
     "execution_count": 21,
     "metadata": {},
     "output_type": "execute_result"
    }
   ],
   "source": [
    "# Look at the head\n",
    "seq.head(20)"
   ]
  },
  {
   "cell_type": "code",
   "execution_count": 22,
   "id": "b244da71",
   "metadata": {},
   "outputs": [],
   "source": [
    "# adding the column name \n",
    "seq.columns = ['Date']"
   ]
  },
  {
   "cell_type": "code",
   "execution_count": 23,
   "id": "92f5e617",
   "metadata": {},
   "outputs": [
    {
     "data": {
      "text/plain": [
       "Index(['date', 'Price'], dtype='object')"
      ]
     },
     "execution_count": 23,
     "metadata": {},
     "output_type": "execute_result"
    }
   ],
   "source": [
    "unique_data.columns"
   ]
  },
  {
   "cell_type": "code",
   "execution_count": 24,
   "id": "f2532a75",
   "metadata": {},
   "outputs": [],
   "source": [
    "# Full outer join on both the dataframes \n",
    "data_all = pd.merge(seq,unique_data,how='outer',left_on=['Date'],right_on=['date'],sort=True)"
   ]
  },
  {
   "cell_type": "code",
   "execution_count": 25,
   "id": "491a1a55",
   "metadata": {
    "scrolled": true
   },
   "outputs": [
    {
     "data": {
      "text/html": [
       "<div>\n",
       "<style scoped>\n",
       "    .dataframe tbody tr th:only-of-type {\n",
       "        vertical-align: middle;\n",
       "    }\n",
       "\n",
       "    .dataframe tbody tr th {\n",
       "        vertical-align: top;\n",
       "    }\n",
       "\n",
       "    .dataframe thead th {\n",
       "        text-align: right;\n",
       "    }\n",
       "</style>\n",
       "<table border=\"1\" class=\"dataframe\">\n",
       "  <thead>\n",
       "    <tr style=\"text-align: right;\">\n",
       "      <th></th>\n",
       "      <th>Date</th>\n",
       "      <th>date</th>\n",
       "      <th>Price</th>\n",
       "    </tr>\n",
       "  </thead>\n",
       "  <tbody>\n",
       "    <tr>\n",
       "      <th>1673</th>\n",
       "      <td>2013-11-13</td>\n",
       "      <td>2013-11-13</td>\n",
       "      <td>48.25</td>\n",
       "    </tr>\n",
       "    <tr>\n",
       "      <th>1674</th>\n",
       "      <td>2013-11-14</td>\n",
       "      <td>2013-11-14</td>\n",
       "      <td>54.94</td>\n",
       "    </tr>\n",
       "    <tr>\n",
       "      <th>1675</th>\n",
       "      <td>2013-11-15</td>\n",
       "      <td>2013-11-15</td>\n",
       "      <td>54.94</td>\n",
       "    </tr>\n",
       "    <tr>\n",
       "      <th>1676</th>\n",
       "      <td>2013-11-16</td>\n",
       "      <td>NaT</td>\n",
       "      <td>NaN</td>\n",
       "    </tr>\n",
       "    <tr>\n",
       "      <th>1677</th>\n",
       "      <td>2013-11-17</td>\n",
       "      <td>2013-11-17</td>\n",
       "      <td>52.47</td>\n",
       "    </tr>\n",
       "    <tr>\n",
       "      <th>1678</th>\n",
       "      <td>2013-11-18</td>\n",
       "      <td>2013-11-18</td>\n",
       "      <td>52.42</td>\n",
       "    </tr>\n",
       "    <tr>\n",
       "      <th>1679</th>\n",
       "      <td>2013-11-19</td>\n",
       "      <td>2013-11-19</td>\n",
       "      <td>54.94</td>\n",
       "    </tr>\n",
       "    <tr>\n",
       "      <th>1680</th>\n",
       "      <td>2013-11-20</td>\n",
       "      <td>2013-11-20</td>\n",
       "      <td>54.94</td>\n",
       "    </tr>\n",
       "    <tr>\n",
       "      <th>1681</th>\n",
       "      <td>2013-11-21</td>\n",
       "      <td>2013-11-21</td>\n",
       "      <td>54.94</td>\n",
       "    </tr>\n",
       "    <tr>\n",
       "      <th>1682</th>\n",
       "      <td>2013-11-22</td>\n",
       "      <td>2013-11-22</td>\n",
       "      <td>54.94</td>\n",
       "    </tr>\n",
       "    <tr>\n",
       "      <th>1683</th>\n",
       "      <td>2013-11-23</td>\n",
       "      <td>2013-11-23</td>\n",
       "      <td>54.94</td>\n",
       "    </tr>\n",
       "    <tr>\n",
       "      <th>1684</th>\n",
       "      <td>2013-11-24</td>\n",
       "      <td>2013-11-24</td>\n",
       "      <td>54.94</td>\n",
       "    </tr>\n",
       "    <tr>\n",
       "      <th>1685</th>\n",
       "      <td>2013-11-25</td>\n",
       "      <td>2013-11-25</td>\n",
       "      <td>54.94</td>\n",
       "    </tr>\n",
       "    <tr>\n",
       "      <th>1686</th>\n",
       "      <td>2013-11-26</td>\n",
       "      <td>2013-11-26</td>\n",
       "      <td>54.94</td>\n",
       "    </tr>\n",
       "    <tr>\n",
       "      <th>1687</th>\n",
       "      <td>2013-11-27</td>\n",
       "      <td>2013-11-27</td>\n",
       "      <td>54.94</td>\n",
       "    </tr>\n",
       "    <tr>\n",
       "      <th>1688</th>\n",
       "      <td>2013-11-28</td>\n",
       "      <td>2013-11-28</td>\n",
       "      <td>57.84</td>\n",
       "    </tr>\n",
       "    <tr>\n",
       "      <th>1689</th>\n",
       "      <td>2013-11-29</td>\n",
       "      <td>2013-11-29</td>\n",
       "      <td>55.95</td>\n",
       "    </tr>\n",
       "    <tr>\n",
       "      <th>1690</th>\n",
       "      <td>2013-11-30</td>\n",
       "      <td>2013-11-30</td>\n",
       "      <td>58.95</td>\n",
       "    </tr>\n",
       "    <tr>\n",
       "      <th>1691</th>\n",
       "      <td>2013-12-01</td>\n",
       "      <td>2013-12-01</td>\n",
       "      <td>46.65</td>\n",
       "    </tr>\n",
       "    <tr>\n",
       "      <th>1692</th>\n",
       "      <td>2013-12-02</td>\n",
       "      <td>2013-12-02</td>\n",
       "      <td>51.55</td>\n",
       "    </tr>\n",
       "  </tbody>\n",
       "</table>\n",
       "</div>"
      ],
      "text/plain": [
       "           Date       date  Price\n",
       "1673 2013-11-13 2013-11-13  48.25\n",
       "1674 2013-11-14 2013-11-14  54.94\n",
       "1675 2013-11-15 2013-11-15  54.94\n",
       "1676 2013-11-16        NaT    NaN\n",
       "1677 2013-11-17 2013-11-17  52.47\n",
       "1678 2013-11-18 2013-11-18  52.42\n",
       "1679 2013-11-19 2013-11-19  54.94\n",
       "1680 2013-11-20 2013-11-20  54.94\n",
       "1681 2013-11-21 2013-11-21  54.94\n",
       "1682 2013-11-22 2013-11-22  54.94\n",
       "1683 2013-11-23 2013-11-23  54.94\n",
       "1684 2013-11-24 2013-11-24  54.94\n",
       "1685 2013-11-25 2013-11-25  54.94\n",
       "1686 2013-11-26 2013-11-26  54.94\n",
       "1687 2013-11-27 2013-11-27  54.94\n",
       "1688 2013-11-28 2013-11-28  57.84\n",
       "1689 2013-11-29 2013-11-29  55.95\n",
       "1690 2013-11-30 2013-11-30  58.95\n",
       "1691 2013-12-01 2013-12-01  46.65\n",
       "1692 2013-12-02 2013-12-02  51.55"
      ]
     },
     "execution_count": 25,
     "metadata": {},
     "output_type": "execute_result"
    }
   ],
   "source": [
    "data_all.tail(20) # verifying top 5 records to check if the merging done correctly or not "
   ]
  },
  {
   "cell_type": "code",
   "execution_count": 26,
   "id": "e8e6c35a",
   "metadata": {},
   "outputs": [],
   "source": [
    "data_all = data_all.drop(['date'],axis=1) # dropping the date variable"
   ]
  },
  {
   "cell_type": "code",
   "execution_count": 27,
   "id": "f452b876",
   "metadata": {},
   "outputs": [
    {
     "data": {
      "text/html": [
       "<div>\n",
       "<style scoped>\n",
       "    .dataframe tbody tr th:only-of-type {\n",
       "        vertical-align: middle;\n",
       "    }\n",
       "\n",
       "    .dataframe tbody tr th {\n",
       "        vertical-align: top;\n",
       "    }\n",
       "\n",
       "    .dataframe thead th {\n",
       "        text-align: right;\n",
       "    }\n",
       "</style>\n",
       "<table border=\"1\" class=\"dataframe\">\n",
       "  <thead>\n",
       "    <tr style=\"text-align: right;\">\n",
       "      <th></th>\n",
       "      <th>Date</th>\n",
       "      <th>Price</th>\n",
       "    </tr>\n",
       "  </thead>\n",
       "  <tbody>\n",
       "    <tr>\n",
       "      <th>0</th>\n",
       "      <td>2009-04-15</td>\n",
       "      <td>58.65</td>\n",
       "    </tr>\n",
       "    <tr>\n",
       "      <th>1</th>\n",
       "      <td>2009-04-16</td>\n",
       "      <td>58.65</td>\n",
       "    </tr>\n",
       "    <tr>\n",
       "      <th>2</th>\n",
       "      <td>2009-04-17</td>\n",
       "      <td>58.65</td>\n",
       "    </tr>\n",
       "    <tr>\n",
       "      <th>3</th>\n",
       "      <td>2009-04-18</td>\n",
       "      <td>79.64</td>\n",
       "    </tr>\n",
       "    <tr>\n",
       "      <th>4</th>\n",
       "      <td>2009-04-19</td>\n",
       "      <td>NaN</td>\n",
       "    </tr>\n",
       "    <tr>\n",
       "      <th>5</th>\n",
       "      <td>2009-04-20</td>\n",
       "      <td>NaN</td>\n",
       "    </tr>\n",
       "    <tr>\n",
       "      <th>6</th>\n",
       "      <td>2009-04-21</td>\n",
       "      <td>NaN</td>\n",
       "    </tr>\n",
       "    <tr>\n",
       "      <th>7</th>\n",
       "      <td>2009-04-22</td>\n",
       "      <td>NaN</td>\n",
       "    </tr>\n",
       "    <tr>\n",
       "      <th>8</th>\n",
       "      <td>2009-04-23</td>\n",
       "      <td>NaN</td>\n",
       "    </tr>\n",
       "    <tr>\n",
       "      <th>9</th>\n",
       "      <td>2009-04-24</td>\n",
       "      <td>NaN</td>\n",
       "    </tr>\n",
       "  </tbody>\n",
       "</table>\n",
       "</div>"
      ],
      "text/plain": [
       "        Date  Price\n",
       "0 2009-04-15  58.65\n",
       "1 2009-04-16  58.65\n",
       "2 2009-04-17  58.65\n",
       "3 2009-04-18  79.64\n",
       "4 2009-04-19    NaN\n",
       "5 2009-04-20    NaN\n",
       "6 2009-04-21    NaN\n",
       "7 2009-04-22    NaN\n",
       "8 2009-04-23    NaN\n",
       "9 2009-04-24    NaN"
      ]
     },
     "execution_count": 27,
     "metadata": {},
     "output_type": "execute_result"
    }
   ],
   "source": [
    "data_all.head(10)"
   ]
  },
  {
   "cell_type": "markdown",
   "id": "1d1b25ea",
   "metadata": {},
   "source": [
    "### Handling the missing values"
   ]
  },
  {
   "cell_type": "code",
   "execution_count": 28,
   "id": "8d29d42a",
   "metadata": {},
   "outputs": [],
   "source": [
    "s = pd.Series([1,np.nan,3,4,5,6,7])"
   ]
  },
  {
   "cell_type": "code",
   "execution_count": 29,
   "id": "ba1485d1",
   "metadata": {},
   "outputs": [
    {
     "data": {
      "text/plain": [
       "0    1.0\n",
       "1    NaN\n",
       "2    3.0\n",
       "3    4.0\n",
       "4    5.0\n",
       "5    6.0\n",
       "6    7.0\n",
       "dtype: float64"
      ]
     },
     "execution_count": 29,
     "metadata": {},
     "output_type": "execute_result"
    }
   ],
   "source": [
    "s"
   ]
  },
  {
   "cell_type": "code",
   "execution_count": 30,
   "id": "5a192e3c",
   "metadata": {},
   "outputs": [],
   "source": [
    "a = s.interpolate(method='linear',limit_direction='forward')"
   ]
  },
  {
   "cell_type": "code",
   "execution_count": 31,
   "id": "08f7049f",
   "metadata": {},
   "outputs": [
    {
     "data": {
      "text/plain": [
       "0    1.0\n",
       "1    2.0\n",
       "2    3.0\n",
       "3    4.0\n",
       "4    5.0\n",
       "5    6.0\n",
       "6    7.0\n",
       "dtype: float64"
      ]
     },
     "execution_count": 31,
     "metadata": {},
     "output_type": "execute_result"
    }
   ],
   "source": [
    "a"
   ]
  },
  {
   "cell_type": "code",
   "execution_count": 32,
   "id": "4b2ed11b",
   "metadata": {},
   "outputs": [],
   "source": [
    "b = s.interpolate(method='linear',limit_direction='backward')"
   ]
  },
  {
   "cell_type": "code",
   "execution_count": 33,
   "id": "782878f0",
   "metadata": {},
   "outputs": [
    {
     "data": {
      "text/plain": [
       "0    1.0\n",
       "1    2.0\n",
       "2    3.0\n",
       "3    4.0\n",
       "4    5.0\n",
       "5    6.0\n",
       "6    7.0\n",
       "dtype: float64"
      ]
     },
     "execution_count": 33,
     "metadata": {},
     "output_type": "execute_result"
    }
   ],
   "source": [
    "b"
   ]
  },
  {
   "cell_type": "code",
   "execution_count": 34,
   "id": "998302e6",
   "metadata": {},
   "outputs": [],
   "source": [
    "c = s.interpolate(method='pad',limit=2)"
   ]
  },
  {
   "cell_type": "code",
   "execution_count": 35,
   "id": "048dcb7a",
   "metadata": {},
   "outputs": [
    {
     "data": {
      "text/plain": [
       "0    1.0\n",
       "1    1.0\n",
       "2    3.0\n",
       "3    4.0\n",
       "4    5.0\n",
       "5    6.0\n",
       "6    7.0\n",
       "dtype: float64"
      ]
     },
     "execution_count": 35,
     "metadata": {},
     "output_type": "execute_result"
    }
   ],
   "source": [
    "c"
   ]
  },
  {
   "cell_type": "code",
   "execution_count": 36,
   "id": "b8239fc9",
   "metadata": {},
   "outputs": [],
   "source": [
    "data_all['Price'] = data_all['Price'].interpolate(method='linear',limit_direction='forward')"
   ]
  },
  {
   "cell_type": "code",
   "execution_count": 37,
   "id": "49db2882",
   "metadata": {},
   "outputs": [],
   "source": [
    "data_nomiss = data_all.copy()"
   ]
  },
  {
   "cell_type": "code",
   "execution_count": 38,
   "id": "3884561a",
   "metadata": {},
   "outputs": [
    {
     "data": {
      "text/html": [
       "<div>\n",
       "<style scoped>\n",
       "    .dataframe tbody tr th:only-of-type {\n",
       "        vertical-align: middle;\n",
       "    }\n",
       "\n",
       "    .dataframe tbody tr th {\n",
       "        vertical-align: top;\n",
       "    }\n",
       "\n",
       "    .dataframe thead th {\n",
       "        text-align: right;\n",
       "    }\n",
       "</style>\n",
       "<table border=\"1\" class=\"dataframe\">\n",
       "  <thead>\n",
       "    <tr style=\"text-align: right;\">\n",
       "      <th></th>\n",
       "      <th>Date</th>\n",
       "      <th>Price</th>\n",
       "    </tr>\n",
       "  </thead>\n",
       "  <tbody>\n",
       "    <tr>\n",
       "      <th>0</th>\n",
       "      <td>2009-04-15</td>\n",
       "      <td>58.650000</td>\n",
       "    </tr>\n",
       "    <tr>\n",
       "      <th>1</th>\n",
       "      <td>2009-04-16</td>\n",
       "      <td>58.650000</td>\n",
       "    </tr>\n",
       "    <tr>\n",
       "      <th>2</th>\n",
       "      <td>2009-04-17</td>\n",
       "      <td>58.650000</td>\n",
       "    </tr>\n",
       "    <tr>\n",
       "      <th>3</th>\n",
       "      <td>2009-04-18</td>\n",
       "      <td>79.640000</td>\n",
       "    </tr>\n",
       "    <tr>\n",
       "      <th>4</th>\n",
       "      <td>2009-04-19</td>\n",
       "      <td>80.505238</td>\n",
       "    </tr>\n",
       "    <tr>\n",
       "      <th>5</th>\n",
       "      <td>2009-04-20</td>\n",
       "      <td>81.370476</td>\n",
       "    </tr>\n",
       "    <tr>\n",
       "      <th>6</th>\n",
       "      <td>2009-04-21</td>\n",
       "      <td>82.235714</td>\n",
       "    </tr>\n",
       "    <tr>\n",
       "      <th>7</th>\n",
       "      <td>2009-04-22</td>\n",
       "      <td>83.100952</td>\n",
       "    </tr>\n",
       "    <tr>\n",
       "      <th>8</th>\n",
       "      <td>2009-04-23</td>\n",
       "      <td>83.966190</td>\n",
       "    </tr>\n",
       "    <tr>\n",
       "      <th>9</th>\n",
       "      <td>2009-04-24</td>\n",
       "      <td>84.831429</td>\n",
       "    </tr>\n",
       "  </tbody>\n",
       "</table>\n",
       "</div>"
      ],
      "text/plain": [
       "        Date      Price\n",
       "0 2009-04-15  58.650000\n",
       "1 2009-04-16  58.650000\n",
       "2 2009-04-17  58.650000\n",
       "3 2009-04-18  79.640000\n",
       "4 2009-04-19  80.505238\n",
       "5 2009-04-20  81.370476\n",
       "6 2009-04-21  82.235714\n",
       "7 2009-04-22  83.100952\n",
       "8 2009-04-23  83.966190\n",
       "9 2009-04-24  84.831429"
      ]
     },
     "execution_count": 38,
     "metadata": {},
     "output_type": "execute_result"
    }
   ],
   "source": [
    "data_nomiss.head(10)"
   ]
  },
  {
   "cell_type": "code",
   "execution_count": 39,
   "id": "61917bf8",
   "metadata": {},
   "outputs": [
    {
     "data": {
      "text/plain": [
       "[<matplotlib.lines.Line2D at 0x19a2b355df0>]"
      ]
     },
     "execution_count": 39,
     "metadata": {},
     "output_type": "execute_result"
    },
    {
     "data": {
      "image/png": "[encoded data removed]",
      "text/plain": [
       "<Figure size 432x288 with 1 Axes>"
      ]
     },
     "metadata": {
      "needs_background": "light"
     },
     "output_type": "display_data"
    }
   ],
   "source": [
    "plt.plot(data_nomiss.Price)"
   ]
  },
  {
   "cell_type": "code",
   "execution_count": 40,
   "id": "e1b00aaf",
   "metadata": {},
   "outputs": [],
   "source": [
    "data_nomiss['Month'] = data_nomiss['Date'].dt.month \n",
    "data_nomiss['Year'] = data_nomiss['Date'].dt.year"
   ]
  },
  {
   "cell_type": "code",
   "execution_count": 41,
   "id": "48983e80",
   "metadata": {},
   "outputs": [
    {
     "data": {
      "text/html": [
       "<div>\n",
       "<style scoped>\n",
       "    .dataframe tbody tr th:only-of-type {\n",
       "        vertical-align: middle;\n",
       "    }\n",
       "\n",
       "    .dataframe tbody tr th {\n",
       "        vertical-align: top;\n",
       "    }\n",
       "\n",
       "    .dataframe thead th {\n",
       "        text-align: right;\n",
       "    }\n",
       "</style>\n",
       "<table border=\"1\" class=\"dataframe\">\n",
       "  <thead>\n",
       "    <tr style=\"text-align: right;\">\n",
       "      <th></th>\n",
       "      <th>Date</th>\n",
       "      <th>Price</th>\n",
       "      <th>Month</th>\n",
       "      <th>Year</th>\n",
       "    </tr>\n",
       "  </thead>\n",
       "  <tbody>\n",
       "    <tr>\n",
       "      <th>0</th>\n",
       "      <td>2009-04-15</td>\n",
       "      <td>58.650000</td>\n",
       "      <td>4</td>\n",
       "      <td>2009</td>\n",
       "    </tr>\n",
       "    <tr>\n",
       "      <th>1</th>\n",
       "      <td>2009-04-16</td>\n",
       "      <td>58.650000</td>\n",
       "      <td>4</td>\n",
       "      <td>2009</td>\n",
       "    </tr>\n",
       "    <tr>\n",
       "      <th>2</th>\n",
       "      <td>2009-04-17</td>\n",
       "      <td>58.650000</td>\n",
       "      <td>4</td>\n",
       "      <td>2009</td>\n",
       "    </tr>\n",
       "    <tr>\n",
       "      <th>3</th>\n",
       "      <td>2009-04-18</td>\n",
       "      <td>79.640000</td>\n",
       "      <td>4</td>\n",
       "      <td>2009</td>\n",
       "    </tr>\n",
       "    <tr>\n",
       "      <th>4</th>\n",
       "      <td>2009-04-19</td>\n",
       "      <td>80.505238</td>\n",
       "      <td>4</td>\n",
       "      <td>2009</td>\n",
       "    </tr>\n",
       "  </tbody>\n",
       "</table>\n",
       "</div>"
      ],
      "text/plain": [
       "        Date      Price  Month  Year\n",
       "0 2009-04-15  58.650000      4  2009\n",
       "1 2009-04-16  58.650000      4  2009\n",
       "2 2009-04-17  58.650000      4  2009\n",
       "3 2009-04-18  79.640000      4  2009\n",
       "4 2009-04-19  80.505238      4  2009"
      ]
     },
     "execution_count": 41,
     "metadata": {},
     "output_type": "execute_result"
    }
   ],
   "source": [
    "data_nomiss.head()"
   ]
  },
  {
   "cell_type": "code",
   "execution_count": 42,
   "id": "41cf51ac",
   "metadata": {},
   "outputs": [],
   "source": [
    "agg_data = pd.DataFrame(data_nomiss.groupby(['Year','Month'],as_index=False)['Price'].mean())"
   ]
  },
  {
   "cell_type": "code",
   "execution_count": 43,
   "id": "bbdd1f11",
   "metadata": {},
   "outputs": [
    {
     "data": {
      "text/plain": [
       "[<matplotlib.lines.Line2D at 0x19a2bb499d0>]"
      ]
     },
     "execution_count": 43,
     "metadata": {},
     "output_type": "execute_result"
    },
    {
     "data": {
      "image/png": "[encoded data removed]",
      "text/plain": [
       "<Figure size 432x288 with 1 Axes>"
      ]
     },
     "metadata": {
      "needs_background": "light"
     },
     "output_type": "display_data"
    }
   ],
   "source": [
    "plt.plot(agg_data['Price'])"
   ]
  },
  {
   "cell_type": "code",
   "execution_count": 44,
   "id": "05cc5f6e",
   "metadata": {},
   "outputs": [
    {
     "data": {
      "text/html": [
       "<div>\n",
       "<style scoped>\n",
       "    .dataframe tbody tr th:only-of-type {\n",
       "        vertical-align: middle;\n",
       "    }\n",
       "\n",
       "    .dataframe tbody tr th {\n",
       "        vertical-align: top;\n",
       "    }\n",
       "\n",
       "    .dataframe thead th {\n",
       "        text-align: right;\n",
       "    }\n",
       "</style>\n",
       "<table border=\"1\" class=\"dataframe\">\n",
       "  <thead>\n",
       "    <tr style=\"text-align: right;\">\n",
       "      <th></th>\n",
       "      <th>Year</th>\n",
       "      <th>Month</th>\n",
       "      <th>Price</th>\n",
       "    </tr>\n",
       "  </thead>\n",
       "  <tbody>\n",
       "    <tr>\n",
       "      <th>0</th>\n",
       "      <td>2009</td>\n",
       "      <td>4</td>\n",
       "      <td>79.922411</td>\n",
       "    </tr>\n",
       "    <tr>\n",
       "      <th>1</th>\n",
       "      <td>2009</td>\n",
       "      <td>5</td>\n",
       "      <td>103.838756</td>\n",
       "    </tr>\n",
       "    <tr>\n",
       "      <th>2</th>\n",
       "      <td>2009</td>\n",
       "      <td>6</td>\n",
       "      <td>111.713333</td>\n",
       "    </tr>\n",
       "    <tr>\n",
       "      <th>3</th>\n",
       "      <td>2009</td>\n",
       "      <td>7</td>\n",
       "      <td>109.580000</td>\n",
       "    </tr>\n",
       "    <tr>\n",
       "      <th>4</th>\n",
       "      <td>2009</td>\n",
       "      <td>8</td>\n",
       "      <td>100.662903</td>\n",
       "    </tr>\n",
       "    <tr>\n",
       "      <th>5</th>\n",
       "      <td>2009</td>\n",
       "      <td>9</td>\n",
       "      <td>89.320833</td>\n",
       "    </tr>\n",
       "    <tr>\n",
       "      <th>6</th>\n",
       "      <td>2009</td>\n",
       "      <td>10</td>\n",
       "      <td>85.522581</td>\n",
       "    </tr>\n",
       "    <tr>\n",
       "      <th>7</th>\n",
       "      <td>2009</td>\n",
       "      <td>11</td>\n",
       "      <td>83.595000</td>\n",
       "    </tr>\n",
       "    <tr>\n",
       "      <th>8</th>\n",
       "      <td>2009</td>\n",
       "      <td>12</td>\n",
       "      <td>86.476774</td>\n",
       "    </tr>\n",
       "    <tr>\n",
       "      <th>9</th>\n",
       "      <td>2010</td>\n",
       "      <td>1</td>\n",
       "      <td>94.561613</td>\n",
       "    </tr>\n",
       "  </tbody>\n",
       "</table>\n",
       "</div>"
      ],
      "text/plain": [
       "   Year  Month       Price\n",
       "0  2009      4   79.922411\n",
       "1  2009      5  103.838756\n",
       "2  2009      6  111.713333\n",
       "3  2009      7  109.580000\n",
       "4  2009      8  100.662903\n",
       "5  2009      9   89.320833\n",
       "6  2009     10   85.522581\n",
       "7  2009     11   83.595000\n",
       "8  2009     12   86.476774\n",
       "9  2010      1   94.561613"
      ]
     },
     "execution_count": 44,
     "metadata": {},
     "output_type": "execute_result"
    }
   ],
   "source": [
    "agg_data[:10]"
   ]
  },
  {
   "cell_type": "code",
   "execution_count": 45,
   "id": "5e8c209f",
   "metadata": {},
   "outputs": [],
   "source": [
    "agg_data['Date'] = pd.to_datetime(agg_data[['Year','Month']].assign(Day=1)) # adding the date variable "
   ]
  },
  {
   "cell_type": "code",
   "execution_count": 46,
   "id": "6a55c6d9",
   "metadata": {},
   "outputs": [
    {
     "data": {
      "text/html": [
       "<div>\n",
       "<style scoped>\n",
       "    .dataframe tbody tr th:only-of-type {\n",
       "        vertical-align: middle;\n",
       "    }\n",
       "\n",
       "    .dataframe tbody tr th {\n",
       "        vertical-align: top;\n",
       "    }\n",
       "\n",
       "    .dataframe thead th {\n",
       "        text-align: right;\n",
       "    }\n",
       "</style>\n",
       "<table border=\"1\" class=\"dataframe\">\n",
       "  <thead>\n",
       "    <tr style=\"text-align: right;\">\n",
       "      <th></th>\n",
       "      <th>Year</th>\n",
       "      <th>Month</th>\n",
       "      <th>Price</th>\n",
       "      <th>Date</th>\n",
       "    </tr>\n",
       "  </thead>\n",
       "  <tbody>\n",
       "    <tr>\n",
       "      <th>0</th>\n",
       "      <td>2009</td>\n",
       "      <td>4</td>\n",
       "      <td>79.922411</td>\n",
       "      <td>2009-04-01</td>\n",
       "    </tr>\n",
       "    <tr>\n",
       "      <th>1</th>\n",
       "      <td>2009</td>\n",
       "      <td>5</td>\n",
       "      <td>103.838756</td>\n",
       "      <td>2009-05-01</td>\n",
       "    </tr>\n",
       "    <tr>\n",
       "      <th>2</th>\n",
       "      <td>2009</td>\n",
       "      <td>6</td>\n",
       "      <td>111.713333</td>\n",
       "      <td>2009-06-01</td>\n",
       "    </tr>\n",
       "    <tr>\n",
       "      <th>3</th>\n",
       "      <td>2009</td>\n",
       "      <td>7</td>\n",
       "      <td>109.580000</td>\n",
       "      <td>2009-07-01</td>\n",
       "    </tr>\n",
       "    <tr>\n",
       "      <th>4</th>\n",
       "      <td>2009</td>\n",
       "      <td>8</td>\n",
       "      <td>100.662903</td>\n",
       "      <td>2009-08-01</td>\n",
       "    </tr>\n",
       "  </tbody>\n",
       "</table>\n",
       "</div>"
      ],
      "text/plain": [
       "   Year  Month       Price       Date\n",
       "0  2009      4   79.922411 2009-04-01\n",
       "1  2009      5  103.838756 2009-05-01\n",
       "2  2009      6  111.713333 2009-06-01\n",
       "3  2009      7  109.580000 2009-07-01\n",
       "4  2009      8  100.662903 2009-08-01"
      ]
     },
     "execution_count": 46,
     "metadata": {},
     "output_type": "execute_result"
    }
   ],
   "source": [
    "agg_data.head()"
   ]
  },
  {
   "cell_type": "code",
   "execution_count": 47,
   "id": "533d6b77",
   "metadata": {},
   "outputs": [
    {
     "data": {
      "text/plain": [
       "(57, 4)"
      ]
     },
     "execution_count": 47,
     "metadata": {},
     "output_type": "execute_result"
    }
   ],
   "source": [
    "agg_data.shape"
   ]
  },
  {
   "cell_type": "code",
   "execution_count": 48,
   "id": "f9a153a5",
   "metadata": {
    "scrolled": true
   },
   "outputs": [
    {
     "data": {
      "text/plain": [
       "array([ 1,  2,  3,  4,  5,  6,  7,  8,  9, 10, 11, 12, 13, 14, 15, 16, 17,\n",
       "       18, 19, 20, 21, 22, 23, 24, 25, 26, 27, 28, 29, 30, 31, 32, 33, 34,\n",
       "       35, 36, 37, 38, 39, 40, 41, 42, 43, 44, 45, 46, 47, 48, 49, 50, 51,\n",
       "       52, 53, 54, 55, 56])"
      ]
     },
     "execution_count": 48,
     "metadata": {},
     "output_type": "execute_result"
    }
   ],
   "source": [
    "np.arange(1,len(agg_data))"
   ]
  },
  {
   "cell_type": "code",
   "execution_count": 49,
   "id": "fac97a41",
   "metadata": {},
   "outputs": [],
   "source": [
    "agg_data['Time_seq'] = np.arange(1,len(agg_data)+1)"
   ]
  },
  {
   "cell_type": "code",
   "execution_count": 50,
   "id": "ec5d2f08",
   "metadata": {},
   "outputs": [],
   "source": [
    "agg_data = agg_data.drop(['Year'],axis=1)\n"
   ]
  },
  {
   "cell_type": "code",
   "execution_count": 51,
   "id": "4f4f67fe",
   "metadata": {
    "scrolled": true
   },
   "outputs": [
    {
     "data": {
      "text/html": [
       "<div>\n",
       "<style scoped>\n",
       "    .dataframe tbody tr th:only-of-type {\n",
       "        vertical-align: middle;\n",
       "    }\n",
       "\n",
       "    .dataframe tbody tr th {\n",
       "        vertical-align: top;\n",
       "    }\n",
       "\n",
       "    .dataframe thead th {\n",
       "        text-align: right;\n",
       "    }\n",
       "</style>\n",
       "<table border=\"1\" class=\"dataframe\">\n",
       "  <thead>\n",
       "    <tr style=\"text-align: right;\">\n",
       "      <th></th>\n",
       "      <th>Month</th>\n",
       "      <th>Price</th>\n",
       "      <th>Date</th>\n",
       "      <th>Time_seq</th>\n",
       "    </tr>\n",
       "  </thead>\n",
       "  <tbody>\n",
       "    <tr>\n",
       "      <th>52</th>\n",
       "      <td>8</td>\n",
       "      <td>74.991129</td>\n",
       "      <td>2013-08-01</td>\n",
       "      <td>53</td>\n",
       "    </tr>\n",
       "    <tr>\n",
       "      <th>53</th>\n",
       "      <td>9</td>\n",
       "      <td>66.848000</td>\n",
       "      <td>2013-09-01</td>\n",
       "      <td>54</td>\n",
       "    </tr>\n",
       "    <tr>\n",
       "      <th>54</th>\n",
       "      <td>10</td>\n",
       "      <td>41.663871</td>\n",
       "      <td>2013-10-01</td>\n",
       "      <td>55</td>\n",
       "    </tr>\n",
       "    <tr>\n",
       "      <th>55</th>\n",
       "      <td>11</td>\n",
       "      <td>50.784500</td>\n",
       "      <td>2013-11-01</td>\n",
       "      <td>56</td>\n",
       "    </tr>\n",
       "    <tr>\n",
       "      <th>56</th>\n",
       "      <td>12</td>\n",
       "      <td>49.100000</td>\n",
       "      <td>2013-12-01</td>\n",
       "      <td>57</td>\n",
       "    </tr>\n",
       "  </tbody>\n",
       "</table>\n",
       "</div>"
      ],
      "text/plain": [
       "    Month      Price       Date  Time_seq\n",
       "52      8  74.991129 2013-08-01        53\n",
       "53      9  66.848000 2013-09-01        54\n",
       "54     10  41.663871 2013-10-01        55\n",
       "55     11  50.784500 2013-11-01        56\n",
       "56     12  49.100000 2013-12-01        57"
      ]
     },
     "execution_count": 51,
     "metadata": {},
     "output_type": "execute_result"
    }
   ],
   "source": [
    "agg_data.tail()"
   ]
  },
  {
   "cell_type": "code",
   "execution_count": 52,
   "id": "4bb8220e",
   "metadata": {},
   "outputs": [],
   "source": [
    "agg_data.set_index('Date',inplace=True)"
   ]
  },
  {
   "cell_type": "code",
   "execution_count": 53,
   "id": "8cc64602",
   "metadata": {},
   "outputs": [
    {
     "data": {
      "text/html": [
       "<div>\n",
       "<style scoped>\n",
       "    .dataframe tbody tr th:only-of-type {\n",
       "        vertical-align: middle;\n",
       "    }\n",
       "\n",
       "    .dataframe tbody tr th {\n",
       "        vertical-align: top;\n",
       "    }\n",
       "\n",
       "    .dataframe thead th {\n",
       "        text-align: right;\n",
       "    }\n",
       "</style>\n",
       "<table border=\"1\" class=\"dataframe\">\n",
       "  <thead>\n",
       "    <tr style=\"text-align: right;\">\n",
       "      <th></th>\n",
       "      <th>Month</th>\n",
       "      <th>Price</th>\n",
       "      <th>Time_seq</th>\n",
       "    </tr>\n",
       "    <tr>\n",
       "      <th>Date</th>\n",
       "      <th></th>\n",
       "      <th></th>\n",
       "      <th></th>\n",
       "    </tr>\n",
       "  </thead>\n",
       "  <tbody>\n",
       "    <tr>\n",
       "      <th>2009-04-01</th>\n",
       "      <td>4</td>\n",
       "      <td>79.922411</td>\n",
       "      <td>1</td>\n",
       "    </tr>\n",
       "    <tr>\n",
       "      <th>2009-05-01</th>\n",
       "      <td>5</td>\n",
       "      <td>103.838756</td>\n",
       "      <td>2</td>\n",
       "    </tr>\n",
       "    <tr>\n",
       "      <th>2009-06-01</th>\n",
       "      <td>6</td>\n",
       "      <td>111.713333</td>\n",
       "      <td>3</td>\n",
       "    </tr>\n",
       "    <tr>\n",
       "      <th>2009-07-01</th>\n",
       "      <td>7</td>\n",
       "      <td>109.580000</td>\n",
       "      <td>4</td>\n",
       "    </tr>\n",
       "    <tr>\n",
       "      <th>2009-08-01</th>\n",
       "      <td>8</td>\n",
       "      <td>100.662903</td>\n",
       "      <td>5</td>\n",
       "    </tr>\n",
       "    <tr>\n",
       "      <th>2009-09-01</th>\n",
       "      <td>9</td>\n",
       "      <td>89.320833</td>\n",
       "      <td>6</td>\n",
       "    </tr>\n",
       "    <tr>\n",
       "      <th>2009-10-01</th>\n",
       "      <td>10</td>\n",
       "      <td>85.522581</td>\n",
       "      <td>7</td>\n",
       "    </tr>\n",
       "    <tr>\n",
       "      <th>2009-11-01</th>\n",
       "      <td>11</td>\n",
       "      <td>83.595000</td>\n",
       "      <td>8</td>\n",
       "    </tr>\n",
       "    <tr>\n",
       "      <th>2009-12-01</th>\n",
       "      <td>12</td>\n",
       "      <td>86.476774</td>\n",
       "      <td>9</td>\n",
       "    </tr>\n",
       "    <tr>\n",
       "      <th>2010-01-01</th>\n",
       "      <td>1</td>\n",
       "      <td>94.561613</td>\n",
       "      <td>10</td>\n",
       "    </tr>\n",
       "    <tr>\n",
       "      <th>2010-02-01</th>\n",
       "      <td>2</td>\n",
       "      <td>82.452500</td>\n",
       "      <td>11</td>\n",
       "    </tr>\n",
       "    <tr>\n",
       "      <th>2010-03-01</th>\n",
       "      <td>3</td>\n",
       "      <td>79.880645</td>\n",
       "      <td>12</td>\n",
       "    </tr>\n",
       "    <tr>\n",
       "      <th>2010-04-01</th>\n",
       "      <td>4</td>\n",
       "      <td>77.427667</td>\n",
       "      <td>13</td>\n",
       "    </tr>\n",
       "    <tr>\n",
       "      <th>2010-05-01</th>\n",
       "      <td>5</td>\n",
       "      <td>80.441613</td>\n",
       "      <td>14</td>\n",
       "    </tr>\n",
       "    <tr>\n",
       "      <th>2010-06-01</th>\n",
       "      <td>6</td>\n",
       "      <td>78.683667</td>\n",
       "      <td>15</td>\n",
       "    </tr>\n",
       "    <tr>\n",
       "      <th>2010-07-01</th>\n",
       "      <td>7</td>\n",
       "      <td>83.064516</td>\n",
       "      <td>16</td>\n",
       "    </tr>\n",
       "    <tr>\n",
       "      <th>2010-08-01</th>\n",
       "      <td>8</td>\n",
       "      <td>98.831452</td>\n",
       "      <td>17</td>\n",
       "    </tr>\n",
       "    <tr>\n",
       "      <th>2010-09-01</th>\n",
       "      <td>9</td>\n",
       "      <td>92.209000</td>\n",
       "      <td>18</td>\n",
       "    </tr>\n",
       "    <tr>\n",
       "      <th>2010-10-01</th>\n",
       "      <td>10</td>\n",
       "      <td>80.772742</td>\n",
       "      <td>19</td>\n",
       "    </tr>\n",
       "    <tr>\n",
       "      <th>2010-11-01</th>\n",
       "      <td>11</td>\n",
       "      <td>80.698667</td>\n",
       "      <td>20</td>\n",
       "    </tr>\n",
       "    <tr>\n",
       "      <th>2010-12-01</th>\n",
       "      <td>12</td>\n",
       "      <td>82.610000</td>\n",
       "      <td>21</td>\n",
       "    </tr>\n",
       "    <tr>\n",
       "      <th>2011-01-01</th>\n",
       "      <td>1</td>\n",
       "      <td>88.421613</td>\n",
       "      <td>22</td>\n",
       "    </tr>\n",
       "    <tr>\n",
       "      <th>2011-02-01</th>\n",
       "      <td>2</td>\n",
       "      <td>72.581964</td>\n",
       "      <td>23</td>\n",
       "    </tr>\n",
       "    <tr>\n",
       "      <th>2011-03-01</th>\n",
       "      <td>3</td>\n",
       "      <td>70.649677</td>\n",
       "      <td>24</td>\n",
       "    </tr>\n",
       "    <tr>\n",
       "      <th>2011-04-01</th>\n",
       "      <td>4</td>\n",
       "      <td>59.030667</td>\n",
       "      <td>25</td>\n",
       "    </tr>\n",
       "    <tr>\n",
       "      <th>2011-05-01</th>\n",
       "      <td>5</td>\n",
       "      <td>60.916774</td>\n",
       "      <td>26</td>\n",
       "    </tr>\n",
       "    <tr>\n",
       "      <th>2011-06-01</th>\n",
       "      <td>6</td>\n",
       "      <td>72.916667</td>\n",
       "      <td>27</td>\n",
       "    </tr>\n",
       "    <tr>\n",
       "      <th>2011-07-01</th>\n",
       "      <td>7</td>\n",
       "      <td>78.181935</td>\n",
       "      <td>28</td>\n",
       "    </tr>\n",
       "    <tr>\n",
       "      <th>2011-08-01</th>\n",
       "      <td>8</td>\n",
       "      <td>91.216452</td>\n",
       "      <td>29</td>\n",
       "    </tr>\n",
       "    <tr>\n",
       "      <th>2011-09-01</th>\n",
       "      <td>9</td>\n",
       "      <td>76.702000</td>\n",
       "      <td>30</td>\n",
       "    </tr>\n",
       "    <tr>\n",
       "      <th>2011-10-01</th>\n",
       "      <td>10</td>\n",
       "      <td>68.089355</td>\n",
       "      <td>31</td>\n",
       "    </tr>\n",
       "    <tr>\n",
       "      <th>2011-11-01</th>\n",
       "      <td>11</td>\n",
       "      <td>64.756000</td>\n",
       "      <td>32</td>\n",
       "    </tr>\n",
       "    <tr>\n",
       "      <th>2011-12-01</th>\n",
       "      <td>12</td>\n",
       "      <td>71.526613</td>\n",
       "      <td>33</td>\n",
       "    </tr>\n",
       "    <tr>\n",
       "      <th>2012-01-01</th>\n",
       "      <td>1</td>\n",
       "      <td>70.538387</td>\n",
       "      <td>34</td>\n",
       "    </tr>\n",
       "    <tr>\n",
       "      <th>2012-02-01</th>\n",
       "      <td>2</td>\n",
       "      <td>50.555172</td>\n",
       "      <td>35</td>\n",
       "    </tr>\n",
       "    <tr>\n",
       "      <th>2012-03-01</th>\n",
       "      <td>3</td>\n",
       "      <td>47.012903</td>\n",
       "      <td>36</td>\n",
       "    </tr>\n",
       "    <tr>\n",
       "      <th>2012-04-01</th>\n",
       "      <td>4</td>\n",
       "      <td>56.501333</td>\n",
       "      <td>37</td>\n",
       "    </tr>\n",
       "    <tr>\n",
       "      <th>2012-05-01</th>\n",
       "      <td>5</td>\n",
       "      <td>62.886452</td>\n",
       "      <td>38</td>\n",
       "    </tr>\n",
       "    <tr>\n",
       "      <th>2012-06-01</th>\n",
       "      <td>6</td>\n",
       "      <td>70.157000</td>\n",
       "      <td>39</td>\n",
       "    </tr>\n",
       "    <tr>\n",
       "      <th>2012-07-01</th>\n",
       "      <td>7</td>\n",
       "      <td>72.600000</td>\n",
       "      <td>40</td>\n",
       "    </tr>\n",
       "    <tr>\n",
       "      <th>2012-08-01</th>\n",
       "      <td>8</td>\n",
       "      <td>74.791613</td>\n",
       "      <td>41</td>\n",
       "    </tr>\n",
       "    <tr>\n",
       "      <th>2012-09-01</th>\n",
       "      <td>9</td>\n",
       "      <td>59.733000</td>\n",
       "      <td>42</td>\n",
       "    </tr>\n",
       "    <tr>\n",
       "      <th>2012-10-01</th>\n",
       "      <td>10</td>\n",
       "      <td>54.826935</td>\n",
       "      <td>43</td>\n",
       "    </tr>\n",
       "    <tr>\n",
       "      <th>2012-11-01</th>\n",
       "      <td>11</td>\n",
       "      <td>54.713333</td>\n",
       "      <td>44</td>\n",
       "    </tr>\n",
       "    <tr>\n",
       "      <th>2012-12-01</th>\n",
       "      <td>12</td>\n",
       "      <td>58.629677</td>\n",
       "      <td>45</td>\n",
       "    </tr>\n",
       "    <tr>\n",
       "      <th>2013-01-01</th>\n",
       "      <td>1</td>\n",
       "      <td>63.730323</td>\n",
       "      <td>46</td>\n",
       "    </tr>\n",
       "    <tr>\n",
       "      <th>2013-02-01</th>\n",
       "      <td>2</td>\n",
       "      <td>54.428571</td>\n",
       "      <td>47</td>\n",
       "    </tr>\n",
       "    <tr>\n",
       "      <th>2013-03-01</th>\n",
       "      <td>3</td>\n",
       "      <td>44.010968</td>\n",
       "      <td>48</td>\n",
       "    </tr>\n",
       "    <tr>\n",
       "      <th>2013-04-01</th>\n",
       "      <td>4</td>\n",
       "      <td>48.792000</td>\n",
       "      <td>49</td>\n",
       "    </tr>\n",
       "    <tr>\n",
       "      <th>2013-05-01</th>\n",
       "      <td>5</td>\n",
       "      <td>56.641290</td>\n",
       "      <td>50</td>\n",
       "    </tr>\n",
       "    <tr>\n",
       "      <th>2013-06-01</th>\n",
       "      <td>6</td>\n",
       "      <td>63.586333</td>\n",
       "      <td>51</td>\n",
       "    </tr>\n",
       "    <tr>\n",
       "      <th>2013-07-01</th>\n",
       "      <td>7</td>\n",
       "      <td>61.783548</td>\n",
       "      <td>52</td>\n",
       "    </tr>\n",
       "    <tr>\n",
       "      <th>2013-08-01</th>\n",
       "      <td>8</td>\n",
       "      <td>74.991129</td>\n",
       "      <td>53</td>\n",
       "    </tr>\n",
       "    <tr>\n",
       "      <th>2013-09-01</th>\n",
       "      <td>9</td>\n",
       "      <td>66.848000</td>\n",
       "      <td>54</td>\n",
       "    </tr>\n",
       "    <tr>\n",
       "      <th>2013-10-01</th>\n",
       "      <td>10</td>\n",
       "      <td>41.663871</td>\n",
       "      <td>55</td>\n",
       "    </tr>\n",
       "    <tr>\n",
       "      <th>2013-11-01</th>\n",
       "      <td>11</td>\n",
       "      <td>50.784500</td>\n",
       "      <td>56</td>\n",
       "    </tr>\n",
       "    <tr>\n",
       "      <th>2013-12-01</th>\n",
       "      <td>12</td>\n",
       "      <td>49.100000</td>\n",
       "      <td>57</td>\n",
       "    </tr>\n",
       "  </tbody>\n",
       "</table>\n",
       "</div>"
      ],
      "text/plain": [
       "            Month       Price  Time_seq\n",
       "Date                                   \n",
       "2009-04-01      4   79.922411         1\n",
       "2009-05-01      5  103.838756         2\n",
       "2009-06-01      6  111.713333         3\n",
       "2009-07-01      7  109.580000         4\n",
       "2009-08-01      8  100.662903         5\n",
       "2009-09-01      9   89.320833         6\n",
       "2009-10-01     10   85.522581         7\n",
       "2009-11-01     11   83.595000         8\n",
       "2009-12-01     12   86.476774         9\n",
       "2010-01-01      1   94.561613        10\n",
       "2010-02-01      2   82.452500        11\n",
       "2010-03-01      3   79.880645        12\n",
       "2010-04-01      4   77.427667        13\n",
       "2010-05-01      5   80.441613        14\n",
       "2010-06-01      6   78.683667        15\n",
       "2010-07-01      7   83.064516        16\n",
       "2010-08-01      8   98.831452        17\n",
       "2010-09-01      9   92.209000        18\n",
       "2010-10-01     10   80.772742        19\n",
       "2010-11-01     11   80.698667        20\n",
       "2010-12-01     12   82.610000        21\n",
       "2011-01-01      1   88.421613        22\n",
       "2011-02-01      2   72.581964        23\n",
       "2011-03-01      3   70.649677        24\n",
       "2011-04-01      4   59.030667        25\n",
       "2011-05-01      5   60.916774        26\n",
       "2011-06-01      6   72.916667        27\n",
       "2011-07-01      7   78.181935        28\n",
       "2011-08-01      8   91.216452        29\n",
       "2011-09-01      9   76.702000        30\n",
       "2011-10-01     10   68.089355        31\n",
       "2011-11-01     11   64.756000        32\n",
       "2011-12-01     12   71.526613        33\n",
       "2012-01-01      1   70.538387        34\n",
       "2012-02-01      2   50.555172        35\n",
       "2012-03-01      3   47.012903        36\n",
       "2012-04-01      4   56.501333        37\n",
       "2012-05-01      5   62.886452        38\n",
       "2012-06-01      6   70.157000        39\n",
       "2012-07-01      7   72.600000        40\n",
       "2012-08-01      8   74.791613        41\n",
       "2012-09-01      9   59.733000        42\n",
       "2012-10-01     10   54.826935        43\n",
       "2012-11-01     11   54.713333        44\n",
       "2012-12-01     12   58.629677        45\n",
       "2013-01-01      1   63.730323        46\n",
       "2013-02-01      2   54.428571        47\n",
       "2013-03-01      3   44.010968        48\n",
       "2013-04-01      4   48.792000        49\n",
       "2013-05-01      5   56.641290        50\n",
       "2013-06-01      6   63.586333        51\n",
       "2013-07-01      7   61.783548        52\n",
       "2013-08-01      8   74.991129        53\n",
       "2013-09-01      9   66.848000        54\n",
       "2013-10-01     10   41.663871        55\n",
       "2013-11-01     11   50.784500        56\n",
       "2013-12-01     12   49.100000        57"
      ]
     },
     "execution_count": 53,
     "metadata": {},
     "output_type": "execute_result"
    }
   ],
   "source": [
    "agg_data"
   ]
  },
  {
   "cell_type": "code",
   "execution_count": 54,
   "id": "8d4a16e1",
   "metadata": {},
   "outputs": [],
   "source": [
    "train = agg_data.loc[agg_data.Time_seq <49,]\n",
    "test = agg_data.loc[agg_data.Time_seq >=49,]"
   ]
  },
  {
   "cell_type": "code",
   "execution_count": 55,
   "id": "18606b2e",
   "metadata": {},
   "outputs": [
    {
     "data": {
      "text/html": [
       "<div>\n",
       "<style scoped>\n",
       "    .dataframe tbody tr th:only-of-type {\n",
       "        vertical-align: middle;\n",
       "    }\n",
       "\n",
       "    .dataframe tbody tr th {\n",
       "        vertical-align: top;\n",
       "    }\n",
       "\n",
       "    .dataframe thead th {\n",
       "        text-align: right;\n",
       "    }\n",
       "</style>\n",
       "<table border=\"1\" class=\"dataframe\">\n",
       "  <thead>\n",
       "    <tr style=\"text-align: right;\">\n",
       "      <th></th>\n",
       "      <th>Month</th>\n",
       "      <th>Price</th>\n",
       "      <th>Time_seq</th>\n",
       "    </tr>\n",
       "    <tr>\n",
       "      <th>Date</th>\n",
       "      <th></th>\n",
       "      <th></th>\n",
       "      <th></th>\n",
       "    </tr>\n",
       "  </thead>\n",
       "  <tbody>\n",
       "    <tr>\n",
       "      <th>2009-04-01</th>\n",
       "      <td>4</td>\n",
       "      <td>79.922411</td>\n",
       "      <td>1</td>\n",
       "    </tr>\n",
       "    <tr>\n",
       "      <th>2009-05-01</th>\n",
       "      <td>5</td>\n",
       "      <td>103.838756</td>\n",
       "      <td>2</td>\n",
       "    </tr>\n",
       "    <tr>\n",
       "      <th>2009-06-01</th>\n",
       "      <td>6</td>\n",
       "      <td>111.713333</td>\n",
       "      <td>3</td>\n",
       "    </tr>\n",
       "    <tr>\n",
       "      <th>2009-07-01</th>\n",
       "      <td>7</td>\n",
       "      <td>109.580000</td>\n",
       "      <td>4</td>\n",
       "    </tr>\n",
       "    <tr>\n",
       "      <th>2009-08-01</th>\n",
       "      <td>8</td>\n",
       "      <td>100.662903</td>\n",
       "      <td>5</td>\n",
       "    </tr>\n",
       "    <tr>\n",
       "      <th>2009-09-01</th>\n",
       "      <td>9</td>\n",
       "      <td>89.320833</td>\n",
       "      <td>6</td>\n",
       "    </tr>\n",
       "    <tr>\n",
       "      <th>2009-10-01</th>\n",
       "      <td>10</td>\n",
       "      <td>85.522581</td>\n",
       "      <td>7</td>\n",
       "    </tr>\n",
       "    <tr>\n",
       "      <th>2009-11-01</th>\n",
       "      <td>11</td>\n",
       "      <td>83.595000</td>\n",
       "      <td>8</td>\n",
       "    </tr>\n",
       "    <tr>\n",
       "      <th>2009-12-01</th>\n",
       "      <td>12</td>\n",
       "      <td>86.476774</td>\n",
       "      <td>9</td>\n",
       "    </tr>\n",
       "    <tr>\n",
       "      <th>2010-01-01</th>\n",
       "      <td>1</td>\n",
       "      <td>94.561613</td>\n",
       "      <td>10</td>\n",
       "    </tr>\n",
       "    <tr>\n",
       "      <th>2010-02-01</th>\n",
       "      <td>2</td>\n",
       "      <td>82.452500</td>\n",
       "      <td>11</td>\n",
       "    </tr>\n",
       "    <tr>\n",
       "      <th>2010-03-01</th>\n",
       "      <td>3</td>\n",
       "      <td>79.880645</td>\n",
       "      <td>12</td>\n",
       "    </tr>\n",
       "    <tr>\n",
       "      <th>2010-04-01</th>\n",
       "      <td>4</td>\n",
       "      <td>77.427667</td>\n",
       "      <td>13</td>\n",
       "    </tr>\n",
       "    <tr>\n",
       "      <th>2010-05-01</th>\n",
       "      <td>5</td>\n",
       "      <td>80.441613</td>\n",
       "      <td>14</td>\n",
       "    </tr>\n",
       "    <tr>\n",
       "      <th>2010-06-01</th>\n",
       "      <td>6</td>\n",
       "      <td>78.683667</td>\n",
       "      <td>15</td>\n",
       "    </tr>\n",
       "    <tr>\n",
       "      <th>2010-07-01</th>\n",
       "      <td>7</td>\n",
       "      <td>83.064516</td>\n",
       "      <td>16</td>\n",
       "    </tr>\n",
       "    <tr>\n",
       "      <th>2010-08-01</th>\n",
       "      <td>8</td>\n",
       "      <td>98.831452</td>\n",
       "      <td>17</td>\n",
       "    </tr>\n",
       "    <tr>\n",
       "      <th>2010-09-01</th>\n",
       "      <td>9</td>\n",
       "      <td>92.209000</td>\n",
       "      <td>18</td>\n",
       "    </tr>\n",
       "    <tr>\n",
       "      <th>2010-10-01</th>\n",
       "      <td>10</td>\n",
       "      <td>80.772742</td>\n",
       "      <td>19</td>\n",
       "    </tr>\n",
       "    <tr>\n",
       "      <th>2010-11-01</th>\n",
       "      <td>11</td>\n",
       "      <td>80.698667</td>\n",
       "      <td>20</td>\n",
       "    </tr>\n",
       "    <tr>\n",
       "      <th>2010-12-01</th>\n",
       "      <td>12</td>\n",
       "      <td>82.610000</td>\n",
       "      <td>21</td>\n",
       "    </tr>\n",
       "    <tr>\n",
       "      <th>2011-01-01</th>\n",
       "      <td>1</td>\n",
       "      <td>88.421613</td>\n",
       "      <td>22</td>\n",
       "    </tr>\n",
       "    <tr>\n",
       "      <th>2011-02-01</th>\n",
       "      <td>2</td>\n",
       "      <td>72.581964</td>\n",
       "      <td>23</td>\n",
       "    </tr>\n",
       "    <tr>\n",
       "      <th>2011-03-01</th>\n",
       "      <td>3</td>\n",
       "      <td>70.649677</td>\n",
       "      <td>24</td>\n",
       "    </tr>\n",
       "    <tr>\n",
       "      <th>2011-04-01</th>\n",
       "      <td>4</td>\n",
       "      <td>59.030667</td>\n",
       "      <td>25</td>\n",
       "    </tr>\n",
       "    <tr>\n",
       "      <th>2011-05-01</th>\n",
       "      <td>5</td>\n",
       "      <td>60.916774</td>\n",
       "      <td>26</td>\n",
       "    </tr>\n",
       "    <tr>\n",
       "      <th>2011-06-01</th>\n",
       "      <td>6</td>\n",
       "      <td>72.916667</td>\n",
       "      <td>27</td>\n",
       "    </tr>\n",
       "    <tr>\n",
       "      <th>2011-07-01</th>\n",
       "      <td>7</td>\n",
       "      <td>78.181935</td>\n",
       "      <td>28</td>\n",
       "    </tr>\n",
       "    <tr>\n",
       "      <th>2011-08-01</th>\n",
       "      <td>8</td>\n",
       "      <td>91.216452</td>\n",
       "      <td>29</td>\n",
       "    </tr>\n",
       "    <tr>\n",
       "      <th>2011-09-01</th>\n",
       "      <td>9</td>\n",
       "      <td>76.702000</td>\n",
       "      <td>30</td>\n",
       "    </tr>\n",
       "    <tr>\n",
       "      <th>2011-10-01</th>\n",
       "      <td>10</td>\n",
       "      <td>68.089355</td>\n",
       "      <td>31</td>\n",
       "    </tr>\n",
       "    <tr>\n",
       "      <th>2011-11-01</th>\n",
       "      <td>11</td>\n",
       "      <td>64.756000</td>\n",
       "      <td>32</td>\n",
       "    </tr>\n",
       "    <tr>\n",
       "      <th>2011-12-01</th>\n",
       "      <td>12</td>\n",
       "      <td>71.526613</td>\n",
       "      <td>33</td>\n",
       "    </tr>\n",
       "    <tr>\n",
       "      <th>2012-01-01</th>\n",
       "      <td>1</td>\n",
       "      <td>70.538387</td>\n",
       "      <td>34</td>\n",
       "    </tr>\n",
       "    <tr>\n",
       "      <th>2012-02-01</th>\n",
       "      <td>2</td>\n",
       "      <td>50.555172</td>\n",
       "      <td>35</td>\n",
       "    </tr>\n",
       "    <tr>\n",
       "      <th>2012-03-01</th>\n",
       "      <td>3</td>\n",
       "      <td>47.012903</td>\n",
       "      <td>36</td>\n",
       "    </tr>\n",
       "    <tr>\n",
       "      <th>2012-04-01</th>\n",
       "      <td>4</td>\n",
       "      <td>56.501333</td>\n",
       "      <td>37</td>\n",
       "    </tr>\n",
       "    <tr>\n",
       "      <th>2012-05-01</th>\n",
       "      <td>5</td>\n",
       "      <td>62.886452</td>\n",
       "      <td>38</td>\n",
       "    </tr>\n",
       "    <tr>\n",
       "      <th>2012-06-01</th>\n",
       "      <td>6</td>\n",
       "      <td>70.157000</td>\n",
       "      <td>39</td>\n",
       "    </tr>\n",
       "    <tr>\n",
       "      <th>2012-07-01</th>\n",
       "      <td>7</td>\n",
       "      <td>72.600000</td>\n",
       "      <td>40</td>\n",
       "    </tr>\n",
       "    <tr>\n",
       "      <th>2012-08-01</th>\n",
       "      <td>8</td>\n",
       "      <td>74.791613</td>\n",
       "      <td>41</td>\n",
       "    </tr>\n",
       "    <tr>\n",
       "      <th>2012-09-01</th>\n",
       "      <td>9</td>\n",
       "      <td>59.733000</td>\n",
       "      <td>42</td>\n",
       "    </tr>\n",
       "    <tr>\n",
       "      <th>2012-10-01</th>\n",
       "      <td>10</td>\n",
       "      <td>54.826935</td>\n",
       "      <td>43</td>\n",
       "    </tr>\n",
       "    <tr>\n",
       "      <th>2012-11-01</th>\n",
       "      <td>11</td>\n",
       "      <td>54.713333</td>\n",
       "      <td>44</td>\n",
       "    </tr>\n",
       "    <tr>\n",
       "      <th>2012-12-01</th>\n",
       "      <td>12</td>\n",
       "      <td>58.629677</td>\n",
       "      <td>45</td>\n",
       "    </tr>\n",
       "    <tr>\n",
       "      <th>2013-01-01</th>\n",
       "      <td>1</td>\n",
       "      <td>63.730323</td>\n",
       "      <td>46</td>\n",
       "    </tr>\n",
       "    <tr>\n",
       "      <th>2013-02-01</th>\n",
       "      <td>2</td>\n",
       "      <td>54.428571</td>\n",
       "      <td>47</td>\n",
       "    </tr>\n",
       "    <tr>\n",
       "      <th>2013-03-01</th>\n",
       "      <td>3</td>\n",
       "      <td>44.010968</td>\n",
       "      <td>48</td>\n",
       "    </tr>\n",
       "  </tbody>\n",
       "</table>\n",
       "</div>"
      ],
      "text/plain": [
       "            Month       Price  Time_seq\n",
       "Date                                   \n",
       "2009-04-01      4   79.922411         1\n",
       "2009-05-01      5  103.838756         2\n",
       "2009-06-01      6  111.713333         3\n",
       "2009-07-01      7  109.580000         4\n",
       "2009-08-01      8  100.662903         5\n",
       "2009-09-01      9   89.320833         6\n",
       "2009-10-01     10   85.522581         7\n",
       "2009-11-01     11   83.595000         8\n",
       "2009-12-01     12   86.476774         9\n",
       "2010-01-01      1   94.561613        10\n",
       "2010-02-01      2   82.452500        11\n",
       "2010-03-01      3   79.880645        12\n",
       "2010-04-01      4   77.427667        13\n",
       "2010-05-01      5   80.441613        14\n",
       "2010-06-01      6   78.683667        15\n",
       "2010-07-01      7   83.064516        16\n",
       "2010-08-01      8   98.831452        17\n",
       "2010-09-01      9   92.209000        18\n",
       "2010-10-01     10   80.772742        19\n",
       "2010-11-01     11   80.698667        20\n",
       "2010-12-01     12   82.610000        21\n",
       "2011-01-01      1   88.421613        22\n",
       "2011-02-01      2   72.581964        23\n",
       "2011-03-01      3   70.649677        24\n",
       "2011-04-01      4   59.030667        25\n",
       "2011-05-01      5   60.916774        26\n",
       "2011-06-01      6   72.916667        27\n",
       "2011-07-01      7   78.181935        28\n",
       "2011-08-01      8   91.216452        29\n",
       "2011-09-01      9   76.702000        30\n",
       "2011-10-01     10   68.089355        31\n",
       "2011-11-01     11   64.756000        32\n",
       "2011-12-01     12   71.526613        33\n",
       "2012-01-01      1   70.538387        34\n",
       "2012-02-01      2   50.555172        35\n",
       "2012-03-01      3   47.012903        36\n",
       "2012-04-01      4   56.501333        37\n",
       "2012-05-01      5   62.886452        38\n",
       "2012-06-01      6   70.157000        39\n",
       "2012-07-01      7   72.600000        40\n",
       "2012-08-01      8   74.791613        41\n",
       "2012-09-01      9   59.733000        42\n",
       "2012-10-01     10   54.826935        43\n",
       "2012-11-01     11   54.713333        44\n",
       "2012-12-01     12   58.629677        45\n",
       "2013-01-01      1   63.730323        46\n",
       "2013-02-01      2   54.428571        47\n",
       "2013-03-01      3   44.010968        48"
      ]
     },
     "execution_count": 55,
     "metadata": {},
     "output_type": "execute_result"
    }
   ],
   "source": [
    "train"
   ]
  },
  {
   "cell_type": "markdown",
   "id": "ce66ee27",
   "metadata": {},
   "source": [
    "print(train.shape)\n",
    "print(test.shape)"
   ]
  },
  {
   "cell_type": "code",
   "execution_count": 56,
   "id": "f6ed4c74",
   "metadata": {},
   "outputs": [
    {
     "name": "stdout",
     "output_type": "stream",
     "text": [
      "2009-04-01 00:00:00\n",
      "2013-03-01 00:00:00\n",
      "2013-04-01 00:00:00\n",
      "2013-12-01 00:00:00\n"
     ]
    }
   ],
   "source": [
    "print(train.index.min())\n",
    "print(train.index.max())\n",
    "print(test.index.min())\n",
    "print(test.index.max())"
   ]
  },
  {
   "cell_type": "code",
   "execution_count": 57,
   "id": "5a3f90f3",
   "metadata": {},
   "outputs": [
    {
     "data": {
      "image/png": "[encoded data removed]",
      "text/plain": [
       "<Figure size 432x288 with 1 Axes>"
      ]
     },
     "metadata": {
      "needs_background": "light"
     },
     "output_type": "display_data"
    },
    {
     "data": {
      "image/png": "[encoded data removed]",
      "text/plain": [
       "<Figure size 432x288 with 1 Axes>"
      ]
     },
     "metadata": {
      "needs_background": "light"
     },
     "output_type": "display_data"
    }
   ],
   "source": [
    "# Visualize train data\n",
    "fig, ax = plt.subplots()\n",
    "lines = plt.plot(train.index, train.Price, '-o')\n",
    "plt.setp(lines, linewidth=1.0)\n",
    "plt.xticks(rotation = 45)\n",
    "plt.title('Monthly Mean Price (Train)')\n",
    "plt.xlabel('Months')\n",
    "plt.ylabel('Price')\n",
    "plt.legend(['Mean Price'],loc = 'best')\n",
    "plt.show()\n",
    "fig, ax = plt.subplots()\n",
    "lines = plt.plot(test.index, test.Price, '-o')\n",
    "plt.setp(lines, linewidth=1.0)\n",
    "plt.xticks(rotation = 45)\n",
    "plt.title('Monthly Mean Price (Train)')\n",
    "plt.xlabel('Months')\n",
    "plt.ylabel('Price')\n",
    "plt.legend(['Mean Price'],loc = 'best')\n",
    "plt.show()"
   ]
  },
  {
   "cell_type": "code",
   "execution_count": 58,
   "id": "b46fbb58",
   "metadata": {},
   "outputs": [],
   "source": [
    "from statsmodels.tsa.seasonal import seasonal_decompose\n",
    "from statsmodels.tsa.api import ExponentialSmoothing,SimpleExpSmoothing,Holt\n",
    "from statsmodels.graphics.tsaplots import plot_acf,plot_pacf"
   ]
  },
  {
   "cell_type": "code",
   "execution_count": 59,
   "id": "c6912d98",
   "metadata": {},
   "outputs": [
    {
     "ename": "TypeError",
     "evalue": "seasonal_decompose() got an unexpected keyword argument 'freq'",
     "output_type": "error",
     "traceback": [
      "\u001b[1;31m---------------------------------------------------------------------------\u001b[0m",
      "\u001b[1;31mTypeError\u001b[0m                                 Traceback (most recent call last)",
      "Input \u001b[1;32mIn [59]\u001b[0m, in \u001b[0;36m<cell line: 1>\u001b[1;34m()\u001b[0m\n\u001b[1;32m----> 1\u001b[0m decomposition \u001b[38;5;241m=\u001b[39m \u001b[43mseasonal_decompose\u001b[49m\u001b[43m(\u001b[49m\u001b[43mtrain\u001b[49m\u001b[38;5;241;43m.\u001b[39;49m\u001b[43mPrice\u001b[49m\u001b[43m,\u001b[49m\u001b[43mfreq\u001b[49m\u001b[38;5;241;43m=\u001b[39;49m\u001b[38;5;241;43m12\u001b[39;49m\u001b[43m)\u001b[49m\n\u001b[0;32m      2\u001b[0m decomposition\u001b[38;5;241m.\u001b[39mplot()\n\u001b[0;32m      3\u001b[0m plt\u001b[38;5;241m.\u001b[39mshow()\n",
      "\u001b[1;31mTypeError\u001b[0m: seasonal_decompose() got an unexpected keyword argument 'freq'"
     ]
    }
   ],
   "source": [
    "decomposition = seasonal_decompose(train.Price,freq=12)\n",
    "decomposition.plot()\n",
    "plt.show()"
   ]
  },
  {
   "cell_type": "markdown",
   "id": "3b11e897",
   "metadata": {},
   "source": [
    "### Time Series Modelling "
   ]
  },
  {
   "cell_type": "code",
   "execution_count": 60,
   "id": "f3143b3b",
   "metadata": {},
   "outputs": [],
   "source": [
    "import statsmodels.api as sm # loadig the modules to build the regression model"
   ]
  },
  {
   "cell_type": "code",
   "execution_count": 61,
   "id": "325fd078",
   "metadata": {},
   "outputs": [],
   "source": [
    "lm = sm.OLS(train.Price,train.Time_seq)"
   ]
  },
  {
   "cell_type": "code",
   "execution_count": 62,
   "id": "9cc99a24",
   "metadata": {},
   "outputs": [
    {
     "name": "stdout",
     "output_type": "stream",
     "text": [
      "                                 OLS Regression Results                                \n",
      "=======================================================================================\n",
      "Dep. Variable:                  Price   R-squared (uncentered):                   0.593\n",
      "Model:                            OLS   Adj. R-squared (uncentered):              0.584\n",
      "Method:                 Least Squares   F-statistic:                              68.38\n",
      "Date:                Tue, 20 Jun 2023   Prob (F-statistic):                    1.01e-10\n",
      "Time:                        09:58:31   Log-Likelihood:                         -255.25\n",
      "No. Observations:                  48   AIC:                                      512.5\n",
      "Df Residuals:                      47   BIC:                                      514.4\n",
      "Df Model:                           1                                                  \n",
      "Covariance Type:            nonrobust                                                  \n",
      "==============================================================================\n",
      "                 coef    std err          t      P>|t|      [0.025      0.975]\n",
      "------------------------------------------------------------------------------\n",
      "Time_seq       2.1145      0.256      8.270      0.000       1.600       2.629\n",
      "==============================================================================\n",
      "Omnibus:                        5.997   Durbin-Watson:                   0.035\n",
      "Prob(Omnibus):                  0.050   Jarque-Bera (JB):                2.194\n",
      "Skew:                           0.040   Prob(JB):                        0.334\n",
      "Kurtosis:                       1.956   Cond. No.                         1.00\n",
      "==============================================================================\n",
      "\n",
      "Notes:\n",
      "[1] R² is computed without centering (uncentered) since the model does not contain a constant.\n",
      "[2] Standard Errors assume that the covariance matrix of the errors is correctly specified.\n"
     ]
    }
   ],
   "source": [
    "lm = lm.fit()\n",
    "print(lm.summary())"
   ]
  },
  {
   "cell_type": "code",
   "execution_count": 63,
   "id": "ee8083f7",
   "metadata": {},
   "outputs": [
    {
     "data": {
      "text/plain": [
       "Date\n",
       "2009-04-01     2.114488\n",
       "2009-05-01     4.228976\n",
       "2009-06-01     6.343463\n",
       "2009-07-01     8.457951\n",
       "2009-08-01    10.572439\n",
       "2009-09-01    12.686927\n",
       "2009-10-01    14.801414\n",
       "2009-11-01    16.915902\n",
       "2009-12-01    19.030390\n",
       "2010-01-01    21.144878\n",
       "dtype: float64"
      ]
     },
     "execution_count": 63,
     "metadata": {},
     "output_type": "execute_result"
    }
   ],
   "source": [
    "lm.fittedvalues[:10]"
   ]
  },
  {
   "cell_type": "code",
   "execution_count": 64,
   "id": "b40b98f5",
   "metadata": {},
   "outputs": [],
   "source": [
    "pred_test = lm.predict(test.Time_seq)"
   ]
  },
  {
   "cell_type": "code",
   "execution_count": 65,
   "id": "b99cce7c",
   "metadata": {},
   "outputs": [
    {
     "data": {
      "image/png": "[encoded data removed]",
      "text/plain": [
       "<Figure size 1152x576 with 1 Axes>"
      ]
     },
     "metadata": {
      "needs_background": "light"
     },
     "output_type": "display_data"
    }
   ],
   "source": [
    "#Plot the predicted data\n",
    "model_forecast = test.copy()\n",
    "model_forecast['linear_reg_forecast'] = pred_test\n",
    "plt.figure(figsize=(16,8))\n",
    "plt.plot(train['Price'], label='Train')\n",
    "plt.plot(test['Price'], label='Test',color='green')\n",
    "plt.plot(model_forecast['linear_reg_forecast'], label='linear_reg_forecast',color = 'red')\n",
    "plt.show()"
   ]
  },
  {
   "cell_type": "code",
   "execution_count": 66,
   "id": "fad7cbf8",
   "metadata": {},
   "outputs": [
    {
     "data": {
      "text/html": [
       "<div>\n",
       "<style scoped>\n",
       "    .dataframe tbody tr th:only-of-type {\n",
       "        vertical-align: middle;\n",
       "    }\n",
       "\n",
       "    .dataframe tbody tr th {\n",
       "        vertical-align: top;\n",
       "    }\n",
       "\n",
       "    .dataframe thead th {\n",
       "        text-align: right;\n",
       "    }\n",
       "</style>\n",
       "<table border=\"1\" class=\"dataframe\">\n",
       "  <thead>\n",
       "    <tr style=\"text-align: right;\">\n",
       "      <th></th>\n",
       "      <th>Month</th>\n",
       "      <th>Price</th>\n",
       "      <th>Time_seq</th>\n",
       "      <th>linear_reg_forecast</th>\n",
       "    </tr>\n",
       "    <tr>\n",
       "      <th>Date</th>\n",
       "      <th></th>\n",
       "      <th></th>\n",
       "      <th></th>\n",
       "      <th></th>\n",
       "    </tr>\n",
       "  </thead>\n",
       "  <tbody>\n",
       "    <tr>\n",
       "      <th>2013-04-01</th>\n",
       "      <td>4</td>\n",
       "      <td>48.792000</td>\n",
       "      <td>49</td>\n",
       "      <td>103.609901</td>\n",
       "    </tr>\n",
       "    <tr>\n",
       "      <th>2013-05-01</th>\n",
       "      <td>5</td>\n",
       "      <td>56.641290</td>\n",
       "      <td>50</td>\n",
       "      <td>105.724389</td>\n",
       "    </tr>\n",
       "    <tr>\n",
       "      <th>2013-06-01</th>\n",
       "      <td>6</td>\n",
       "      <td>63.586333</td>\n",
       "      <td>51</td>\n",
       "      <td>107.838877</td>\n",
       "    </tr>\n",
       "    <tr>\n",
       "      <th>2013-07-01</th>\n",
       "      <td>7</td>\n",
       "      <td>61.783548</td>\n",
       "      <td>52</td>\n",
       "      <td>109.953365</td>\n",
       "    </tr>\n",
       "    <tr>\n",
       "      <th>2013-08-01</th>\n",
       "      <td>8</td>\n",
       "      <td>74.991129</td>\n",
       "      <td>53</td>\n",
       "      <td>112.067853</td>\n",
       "    </tr>\n",
       "    <tr>\n",
       "      <th>2013-09-01</th>\n",
       "      <td>9</td>\n",
       "      <td>66.848000</td>\n",
       "      <td>54</td>\n",
       "      <td>114.182340</td>\n",
       "    </tr>\n",
       "    <tr>\n",
       "      <th>2013-10-01</th>\n",
       "      <td>10</td>\n",
       "      <td>41.663871</td>\n",
       "      <td>55</td>\n",
       "      <td>116.296828</td>\n",
       "    </tr>\n",
       "    <tr>\n",
       "      <th>2013-11-01</th>\n",
       "      <td>11</td>\n",
       "      <td>50.784500</td>\n",
       "      <td>56</td>\n",
       "      <td>118.411316</td>\n",
       "    </tr>\n",
       "    <tr>\n",
       "      <th>2013-12-01</th>\n",
       "      <td>12</td>\n",
       "      <td>49.100000</td>\n",
       "      <td>57</td>\n",
       "      <td>120.525804</td>\n",
       "    </tr>\n",
       "  </tbody>\n",
       "</table>\n",
       "</div>"
      ],
      "text/plain": [
       "            Month      Price  Time_seq  linear_reg_forecast\n",
       "Date                                                       \n",
       "2013-04-01      4  48.792000        49           103.609901\n",
       "2013-05-01      5  56.641290        50           105.724389\n",
       "2013-06-01      6  63.586333        51           107.838877\n",
       "2013-07-01      7  61.783548        52           109.953365\n",
       "2013-08-01      8  74.991129        53           112.067853\n",
       "2013-09-01      9  66.848000        54           114.182340\n",
       "2013-10-01     10  41.663871        55           116.296828\n",
       "2013-11-01     11  50.784500        56           118.411316\n",
       "2013-12-01     12  49.100000        57           120.525804"
      ]
     },
     "execution_count": 66,
     "metadata": {},
     "output_type": "execute_result"
    }
   ],
   "source": [
    "model_forecast"
   ]
  },
  {
   "cell_type": "code",
   "execution_count": 67,
   "id": "75bd25a0",
   "metadata": {},
   "outputs": [],
   "source": [
    "from sklearn import metrics"
   ]
  },
  {
   "cell_type": "markdown",
   "id": "c09def56",
   "metadata": {},
   "source": [
    "## Evaluating the model"
   ]
  },
  {
   "cell_type": "code",
   "execution_count": 68,
   "id": "ed13ea2c",
   "metadata": {},
   "outputs": [],
   "source": [
    "def error_metrics(train_act,train_pred,test_act,test_pred):\n",
    "        print('*** Error metrics Train data ***')\n",
    "        print('MAE Train:', metrics.mean_absolute_error(train_act, train_pred))\n",
    "        print('MSE Train:', metrics.mean_squared_error(train_act, train_pred))\n",
    "        print('RMSE Train:', np.sqrt(metrics.mean_squared_error(train_act, train_pred)))\n",
    "       # print('MAPE Train:', metrics.mean_absolute_percentage_error(train_act, train_pred))\n",
    "\n",
    "        print('***\\n Error metrics Test Data ***')\n",
    "\n",
    "        print('MAE Train:', metrics.mean_absolute_error(test_act,test_pred))\n",
    "        print('MSE Train:', metrics.mean_squared_error(test_act,test_pred))\n",
    "        print('RMSE Train:', np.sqrt(metrics.mean_squared_error(test_act,test_pred)))\n",
    "     #   print('MAPE Train:', metrics.mean_absolute_percentage_error(test_act,test_pred))\n",
    "        \n",
    "\n"
   ]
  },
  {
   "cell_type": "code",
   "execution_count": 69,
   "id": "d3df5b1f",
   "metadata": {},
   "outputs": [
    {
     "name": "stdout",
     "output_type": "stream",
     "text": [
      "*** Error metrics Train data ***\n",
      "MAE Train: 40.87788081063271\n",
      "MSE Train: 2434.252354780861\n",
      "RMSE Train: 49.33814300093652\n",
      "***\n",
      " Error metrics Test Data ***\n",
      "MAE Train: 54.935555724372364\n",
      "MSE Train: 3172.567218181148\n",
      "RMSE Train: 56.32554676326851\n"
     ]
    }
   ],
   "source": [
    "error_metrics(train.Price,lm.fittedvalues,test.Price,pred_test)"
   ]
  },
  {
   "cell_type": "markdown",
   "id": "867e6a29",
   "metadata": {},
   "source": [
    "### Adding the Month variable - to add seasonality Component"
   ]
  },
  {
   "cell_type": "code",
   "execution_count": 70,
   "id": "3d203823",
   "metadata": {},
   "outputs": [
    {
     "name": "stderr",
     "output_type": "stream",
     "text": [
      "C:\\Users\\gsk44\\AppData\\Local\\Temp\\ipykernel_18928\\65421806.py:1: SettingWithCopyWarning: \n",
      "A value is trying to be set on a copy of a slice from a DataFrame.\n",
      "Try using .loc[row_indexer,col_indexer] = value instead\n",
      "\n",
      "See the caveats in the documentation: https://pandas.pydata.org/pandas-docs/stable/user_guide/indexing.html#returning-a-view-versus-a-copy\n",
      "  train['Month'] = train.Month.astype('category')\n",
      "C:\\Users\\gsk44\\AppData\\Local\\Temp\\ipykernel_18928\\65421806.py:2: SettingWithCopyWarning: \n",
      "A value is trying to be set on a copy of a slice from a DataFrame.\n",
      "Try using .loc[row_indexer,col_indexer] = value instead\n",
      "\n",
      "See the caveats in the documentation: https://pandas.pydata.org/pandas-docs/stable/user_guide/indexing.html#returning-a-view-versus-a-copy\n",
      "  test['Month'] = test.Month.astype('category')\n"
     ]
    }
   ],
   "source": [
    "train['Month'] = train.Month.astype('category')\n",
    "test['Month'] = test.Month.astype('category')\n"
   ]
  },
  {
   "cell_type": "code",
   "execution_count": 71,
   "id": "02a4686d",
   "metadata": {},
   "outputs": [
    {
     "data": {
      "text/plain": [
       "Month       category\n",
       "Price        float64\n",
       "Time_seq       int32\n",
       "dtype: object"
      ]
     },
     "execution_count": 71,
     "metadata": {},
     "output_type": "execute_result"
    }
   ],
   "source": [
    "train.dtypes"
   ]
  },
  {
   "cell_type": "code",
   "execution_count": 72,
   "id": "685ed18f",
   "metadata": {},
   "outputs": [],
   "source": [
    "train_dummy = pd.get_dummies(train,drop_first=True,dtype='int8')\n",
    "test_dummy = pd.get_dummies(test,dtype='int8')"
   ]
  },
  {
   "cell_type": "code",
   "execution_count": 73,
   "id": "7b9a4f69",
   "metadata": {},
   "outputs": [
    {
     "name": "stdout",
     "output_type": "stream",
     "text": [
      "Index(['Price', 'Time_seq', 'Month_2', 'Month_3', 'Month_4', 'Month_5',\n",
      "       'Month_6', 'Month_7', 'Month_8', 'Month_9', 'Month_10', 'Month_11',\n",
      "       'Month_12'],\n",
      "      dtype='object')\n",
      "\n",
      "\n",
      "Index(['Price', 'Time_seq', 'Month_4', 'Month_5', 'Month_6', 'Month_7',\n",
      "       'Month_8', 'Month_9', 'Month_10', 'Month_11', 'Month_12'],\n",
      "      dtype='object')\n",
      "\n",
      " No. of columns in Train Data :13\n",
      "\n",
      "\n",
      "Index(['Price', 'Time_seq', 'Month_4', 'Month_5', 'Month_6', 'Month_7',\n",
      "       'Month_8', 'Month_9', 'Month_10', 'Month_11', 'Month_12'],\n",
      "      dtype='object')\n",
      "\n",
      " No. of columns in Test Data :11\n"
     ]
    }
   ],
   "source": [
    "print(train_dummy.columns)\n",
    "print(\"\\n\")\n",
    "print(test_dummy.columns)\n",
    "\n",
    "print(\"\\n No. of columns in Train Data :{}\".format(len(train_dummy.columns)))\n",
    "print(\"\\n\")\n",
    "print(test_dummy.columns)\n",
    "print(\"\\n No. of columns in Test Data :{}\".format(len(test_dummy.columns)))\n",
    "\n"
   ]
  },
  {
   "cell_type": "markdown",
   "id": "1ec57ba7",
   "metadata": {},
   "source": [
    "### Alligning the Levels b/w Train and Test Data sets "
   ]
  },
  {
   "cell_type": "code",
   "execution_count": 74,
   "id": "636547eb",
   "metadata": {},
   "outputs": [],
   "source": [
    "train_allign,test_allign = train_dummy.align(test_dummy, join='outer', axis=1,fill_value=0)"
   ]
  },
  {
   "cell_type": "code",
   "execution_count": 75,
   "id": "9584ea5a",
   "metadata": {},
   "outputs": [
    {
     "data": {
      "text/html": [
       "<div>\n",
       "<style scoped>\n",
       "    .dataframe tbody tr th:only-of-type {\n",
       "        vertical-align: middle;\n",
       "    }\n",
       "\n",
       "    .dataframe tbody tr th {\n",
       "        vertical-align: top;\n",
       "    }\n",
       "\n",
       "    .dataframe thead th {\n",
       "        text-align: right;\n",
       "    }\n",
       "</style>\n",
       "<table border=\"1\" class=\"dataframe\">\n",
       "  <thead>\n",
       "    <tr style=\"text-align: right;\">\n",
       "      <th></th>\n",
       "      <th>Price</th>\n",
       "      <th>Time_seq</th>\n",
       "      <th>Month_2</th>\n",
       "      <th>Month_3</th>\n",
       "      <th>Month_4</th>\n",
       "      <th>Month_5</th>\n",
       "      <th>Month_6</th>\n",
       "      <th>Month_7</th>\n",
       "      <th>Month_8</th>\n",
       "      <th>Month_9</th>\n",
       "      <th>Month_10</th>\n",
       "      <th>Month_11</th>\n",
       "      <th>Month_12</th>\n",
       "    </tr>\n",
       "    <tr>\n",
       "      <th>Date</th>\n",
       "      <th></th>\n",
       "      <th></th>\n",
       "      <th></th>\n",
       "      <th></th>\n",
       "      <th></th>\n",
       "      <th></th>\n",
       "      <th></th>\n",
       "      <th></th>\n",
       "      <th></th>\n",
       "      <th></th>\n",
       "      <th></th>\n",
       "      <th></th>\n",
       "      <th></th>\n",
       "    </tr>\n",
       "  </thead>\n",
       "  <tbody>\n",
       "    <tr>\n",
       "      <th>2009-04-01</th>\n",
       "      <td>79.922411</td>\n",
       "      <td>1</td>\n",
       "      <td>0</td>\n",
       "      <td>0</td>\n",
       "      <td>1</td>\n",
       "      <td>0</td>\n",
       "      <td>0</td>\n",
       "      <td>0</td>\n",
       "      <td>0</td>\n",
       "      <td>0</td>\n",
       "      <td>0</td>\n",
       "      <td>0</td>\n",
       "      <td>0</td>\n",
       "    </tr>\n",
       "    <tr>\n",
       "      <th>2009-05-01</th>\n",
       "      <td>103.838756</td>\n",
       "      <td>2</td>\n",
       "      <td>0</td>\n",
       "      <td>0</td>\n",
       "      <td>0</td>\n",
       "      <td>1</td>\n",
       "      <td>0</td>\n",
       "      <td>0</td>\n",
       "      <td>0</td>\n",
       "      <td>0</td>\n",
       "      <td>0</td>\n",
       "      <td>0</td>\n",
       "      <td>0</td>\n",
       "    </tr>\n",
       "    <tr>\n",
       "      <th>2009-06-01</th>\n",
       "      <td>111.713333</td>\n",
       "      <td>3</td>\n",
       "      <td>0</td>\n",
       "      <td>0</td>\n",
       "      <td>0</td>\n",
       "      <td>0</td>\n",
       "      <td>1</td>\n",
       "      <td>0</td>\n",
       "      <td>0</td>\n",
       "      <td>0</td>\n",
       "      <td>0</td>\n",
       "      <td>0</td>\n",
       "      <td>0</td>\n",
       "    </tr>\n",
       "    <tr>\n",
       "      <th>2009-07-01</th>\n",
       "      <td>109.580000</td>\n",
       "      <td>4</td>\n",
       "      <td>0</td>\n",
       "      <td>0</td>\n",
       "      <td>0</td>\n",
       "      <td>0</td>\n",
       "      <td>0</td>\n",
       "      <td>1</td>\n",
       "      <td>0</td>\n",
       "      <td>0</td>\n",
       "      <td>0</td>\n",
       "      <td>0</td>\n",
       "      <td>0</td>\n",
       "    </tr>\n",
       "    <tr>\n",
       "      <th>2009-08-01</th>\n",
       "      <td>100.662903</td>\n",
       "      <td>5</td>\n",
       "      <td>0</td>\n",
       "      <td>0</td>\n",
       "      <td>0</td>\n",
       "      <td>0</td>\n",
       "      <td>0</td>\n",
       "      <td>0</td>\n",
       "      <td>1</td>\n",
       "      <td>0</td>\n",
       "      <td>0</td>\n",
       "      <td>0</td>\n",
       "      <td>0</td>\n",
       "    </tr>\n",
       "  </tbody>\n",
       "</table>\n",
       "</div>"
      ],
      "text/plain": [
       "                 Price  Time_seq  Month_2  Month_3  Month_4  Month_5  Month_6  \\\n",
       "Date                                                                            \n",
       "2009-04-01   79.922411         1        0        0        1        0        0   \n",
       "2009-05-01  103.838756         2        0        0        0        1        0   \n",
       "2009-06-01  111.713333         3        0        0        0        0        1   \n",
       "2009-07-01  109.580000         4        0        0        0        0        0   \n",
       "2009-08-01  100.662903         5        0        0        0        0        0   \n",
       "\n",
       "            Month_7  Month_8  Month_9  Month_10  Month_11  Month_12  \n",
       "Date                                                                 \n",
       "2009-04-01        0        0        0         0         0         0  \n",
       "2009-05-01        0        0        0         0         0         0  \n",
       "2009-06-01        0        0        0         0         0         0  \n",
       "2009-07-01        1        0        0         0         0         0  \n",
       "2009-08-01        0        1        0         0         0         0  "
      ]
     },
     "execution_count": 75,
     "metadata": {},
     "output_type": "execute_result"
    }
   ],
   "source": [
    "train_dummy.head()"
   ]
  },
  {
   "cell_type": "code",
   "execution_count": 76,
   "id": "2d62c0f7",
   "metadata": {},
   "outputs": [],
   "source": [
    "train_allign = sm.add_constant(train_allign)\n",
    "test_allign = sm.add_constant(test_allign)\n"
   ]
  },
  {
   "cell_type": "code",
   "execution_count": 77,
   "id": "2df66637",
   "metadata": {},
   "outputs": [
    {
     "name": "stdout",
     "output_type": "stream",
     "text": [
      "Index(['const', 'Month_10', 'Month_11', 'Month_12', 'Month_2', 'Month_3',\n",
      "       'Month_4', 'Month_5', 'Month_6', 'Month_7', 'Month_8', 'Month_9',\n",
      "       'Price', 'Time_seq'],\n",
      "      dtype='object')\n",
      "\n",
      "\n",
      "Index(['const', 'Month_10', 'Month_11', 'Month_12', 'Month_2', 'Month_3',\n",
      "       'Month_4', 'Month_5', 'Month_6', 'Month_7', 'Month_8', 'Month_9',\n",
      "       'Price', 'Time_seq'],\n",
      "      dtype='object')\n",
      "\n",
      " No. of columns in Train Data :14\n",
      "\n",
      "\n",
      "Index(['const', 'Month_10', 'Month_11', 'Month_12', 'Month_2', 'Month_3',\n",
      "       'Month_4', 'Month_5', 'Month_6', 'Month_7', 'Month_8', 'Month_9',\n",
      "       'Price', 'Time_seq'],\n",
      "      dtype='object')\n",
      "\n",
      " No. of columns in Test Data :14\n"
     ]
    }
   ],
   "source": [
    "print(train_allign.columns)\n",
    "print(\"\\n\")\n",
    "print(test_allign.columns)\n",
    "\n",
    "print(\"\\n No. of columns in Train Data :{}\".format(len(train_allign.columns)))\n",
    "print(\"\\n\")\n",
    "print(test_allign.columns)\n",
    "print(\"\\n No. of columns in Test Data :{}\".format(len(test_allign.columns)))\n",
    "\n"
   ]
  },
  {
   "cell_type": "code",
   "execution_count": 78,
   "id": "0aacf8b4",
   "metadata": {},
   "outputs": [],
   "source": [
    "lm_season = sm.OLS(train_allign.Price,train_allign.drop(['Price'],axis=1))"
   ]
  },
  {
   "cell_type": "code",
   "execution_count": 79,
   "id": "fbef534b",
   "metadata": {},
   "outputs": [
    {
     "name": "stdout",
     "output_type": "stream",
     "text": [
      "                            OLS Regression Results                            \n",
      "==============================================================================\n",
      "Dep. Variable:                  Price   R-squared:                       0.896\n",
      "Model:                            OLS   Adj. R-squared:                  0.860\n",
      "Method:                 Least Squares   F-statistic:                     25.11\n",
      "Date:                Tue, 20 Jun 2023   Prob (F-statistic):           1.13e-13\n",
      "Time:                        09:58:38   Log-Likelihood:                -146.27\n",
      "No. Observations:                  48   AIC:                             318.5\n",
      "Df Residuals:                      35   BIC:                             342.9\n",
      "Df Model:                          12                                         \n",
      "Covariance Type:            nonrobust                                         \n",
      "==============================================================================\n",
      "                 coef    std err          t      P>|t|      [0.025      0.975]\n",
      "------------------------------------------------------------------------------\n",
      "const        104.9117      3.483     30.122      0.000      97.841     111.982\n",
      "Month_10      -9.7528      4.223     -2.309      0.027     -18.327      -1.179\n",
      "Month_11     -10.2007      4.221     -2.417      0.021     -18.770      -1.632\n",
      "Month_12      -5.4165      4.220     -1.284      0.208     -13.983       3.150\n",
      "Month_2      -13.3942      4.220     -3.174      0.003     -21.960      -4.828\n",
      "Month_3      -17.0960      4.221     -4.050      0.000     -25.665      -8.527\n",
      "Month_4      -19.3206      4.258     -4.537      0.000     -27.966     -10.676\n",
      "Month_5       -9.6060      4.250     -2.260      0.030     -18.234      -0.978\n",
      "Month_6       -2.3450      4.243     -0.553      0.584     -10.959       6.269\n",
      "Month_7        1.0582      4.237      0.250      0.804      -7.543       9.659\n",
      "Month_8        7.4914      4.231      1.771      0.085      -1.098      16.081\n",
      "Month_9       -3.4787      4.227     -0.823      0.416     -12.060       5.102\n",
      "Time_seq      -0.9142      0.064    -14.243      0.000      -1.045      -0.784\n",
      "==============================================================================\n",
      "Omnibus:                        0.168   Durbin-Watson:                   1.059\n",
      "Prob(Omnibus):                  0.919   Jarque-Bera (JB):                0.318\n",
      "Skew:                          -0.120   Prob(JB):                        0.853\n",
      "Kurtosis:                       2.682   Cond. No.                         353.\n",
      "==============================================================================\n",
      "\n",
      "Notes:\n",
      "[1] Standard Errors assume that the covariance matrix of the errors is correctly specified.\n"
     ]
    }
   ],
   "source": [
    "lm_season = lm_season.fit()\n",
    "print(lm_season.summary())"
   ]
  },
  {
   "cell_type": "code",
   "execution_count": 80,
   "id": "bbb96da1",
   "metadata": {},
   "outputs": [],
   "source": [
    "predtest_lmTime = lm_season.predict(test_allign.drop(['Price'],axis=1))"
   ]
  },
  {
   "cell_type": "code",
   "execution_count": 81,
   "id": "5bae56f4",
   "metadata": {},
   "outputs": [
    {
     "name": "stdout",
     "output_type": "stream",
     "text": [
      "*** Error metrics Train data ***\n",
      "MAE Train: 4.119509709951318\n",
      "MSE Train: 25.958874845233293\n",
      "RMSE Train: 5.094985264476561\n",
      "***\n",
      " Error metrics Test Data ***\n",
      "MAE Train: 7.119109464553578\n",
      "MSE Train: 65.55446560651684\n",
      "RMSE Train: 8.096571225309937\n"
     ]
    }
   ],
   "source": [
    "error_metrics(train.Price,lm_season.fittedvalues,test.Price,predtest_lmTime)"
   ]
  },
  {
   "cell_type": "markdown",
   "id": "bc9769e1",
   "metadata": {},
   "source": [
    "### Modelling the time series using simple moving averages(SMA)"
   ]
  },
  {
   "cell_type": "code",
   "execution_count": 82,
   "id": "a5825a2b",
   "metadata": {},
   "outputs": [
    {
     "name": "stderr",
     "output_type": "stream",
     "text": [
      "C:\\Users\\gsk44\\AppData\\Local\\Temp\\ipykernel_18928\\2252963997.py:2: SettingWithCopyWarning: \n",
      "A value is trying to be set on a copy of a slice from a DataFrame.\n",
      "Try using .loc[row_indexer,col_indexer] = value instead\n",
      "\n",
      "See the caveats in the documentation: https://pandas.pydata.org/pandas-docs/stable/user_guide/indexing.html#returning-a-view-versus-a-copy\n",
      "  train['SMA_3'] = train['Price'].rolling(window).mean()\n"
     ]
    }
   ],
   "source": [
    "window=3\n",
    "train['SMA_3'] = train['Price'].rolling(window).mean()\n"
   ]
  },
  {
   "cell_type": "code",
   "execution_count": 83,
   "id": "cc818faa",
   "metadata": {},
   "outputs": [
    {
     "data": {
      "image/png": "[encoded data removed]",
      "text/plain": [
       "<Figure size 432x288 with 1 Axes>"
      ]
     },
     "metadata": {
      "needs_background": "light"
     },
     "output_type": "display_data"
    }
   ],
   "source": [
    "plt.plot(train.index,train.Price,'-o',label = 'Original')\n",
    "plt.plot(train['SMA_3'],'-o', color='red', label = 'SMA Prediction')\n",
    "\n",
    "plt.xlabel('Month')\n",
    "plt.ylabel('Price')\n",
    "plt.title('Prediction using SMA')\n",
    "plt.legend()\n",
    "plt.show()"
   ]
  },
  {
   "cell_type": "markdown",
   "id": "0374e933",
   "metadata": {},
   "source": [
    "### Forecasting on testdata\n"
   ]
  },
  {
   "cell_type": "code",
   "execution_count": 84,
   "id": "de4aa0b0",
   "metadata": {},
   "outputs": [],
   "source": [
    "history = list(train['SMA_3'].values)\n",
    "sma_predict = list()\n",
    "\n",
    "for t in range(len(test)):\n",
    "    length = len(history)\n",
    "    yhat =np.mean(history[length-window:length])\n",
    "    sma_predict.append(yhat)\n",
    "    history.append(yhat)\n",
    "    "
   ]
  },
  {
   "cell_type": "code",
   "execution_count": 85,
   "id": "1461cb9b",
   "metadata": {},
   "outputs": [
    {
     "data": {
      "text/plain": [
       "[57.33686294589521,\n",
       " 56.77433577971214,\n",
       " 56.05593976977491,\n",
       " 56.722379498460754,\n",
       " 56.51755168264927,\n",
       " 56.43195698362831,\n",
       " 56.557296054912776,\n",
       " 56.50226824039678,\n",
       " 56.49717375964595]"
      ]
     },
     "execution_count": 85,
     "metadata": {},
     "output_type": "execute_result"
    }
   ],
   "source": [
    "sma_predict"
   ]
  },
  {
   "cell_type": "code",
   "execution_count": 86,
   "id": "ee03b6f0",
   "metadata": {
    "scrolled": false
   },
   "outputs": [
    {
     "data": {
      "image/png": "[encoded data removed]",
      "text/plain": [
       "<Figure size 1152x576 with 1 Axes>"
      ]
     },
     "metadata": {
      "needs_background": "light"
     },
     "output_type": "display_data"
    }
   ],
   "source": [
    "model_forecast=test.copy()\n",
    "model_forecast['moving_avg_forecast'] = sma_predict\n",
    "plt.figure(figsize=(16,8))\n",
    "plt.plot(train['Price'], label='Train')\n",
    "plt.plot(test['Price'], label='Test')\n",
    "plt.plot(model_forecast['moving_avg_forecast'], label='Moving Average Forecast')\n",
    "plt.show()"
   ]
  },
  {
   "cell_type": "code",
   "execution_count": 87,
   "id": "11c46eb1",
   "metadata": {},
   "outputs": [
    {
     "data": {
      "text/html": [
       "<div>\n",
       "<style scoped>\n",
       "    .dataframe tbody tr th:only-of-type {\n",
       "        vertical-align: middle;\n",
       "    }\n",
       "\n",
       "    .dataframe tbody tr th {\n",
       "        vertical-align: top;\n",
       "    }\n",
       "\n",
       "    .dataframe thead th {\n",
       "        text-align: right;\n",
       "    }\n",
       "</style>\n",
       "<table border=\"1\" class=\"dataframe\">\n",
       "  <thead>\n",
       "    <tr style=\"text-align: right;\">\n",
       "      <th></th>\n",
       "      <th>Month</th>\n",
       "      <th>Price</th>\n",
       "      <th>Time_seq</th>\n",
       "    </tr>\n",
       "    <tr>\n",
       "      <th>Date</th>\n",
       "      <th></th>\n",
       "      <th></th>\n",
       "      <th></th>\n",
       "    </tr>\n",
       "  </thead>\n",
       "  <tbody>\n",
       "    <tr>\n",
       "      <th>2013-08-01</th>\n",
       "      <td>8</td>\n",
       "      <td>74.991129</td>\n",
       "      <td>53</td>\n",
       "    </tr>\n",
       "    <tr>\n",
       "      <th>2013-09-01</th>\n",
       "      <td>9</td>\n",
       "      <td>66.848000</td>\n",
       "      <td>54</td>\n",
       "    </tr>\n",
       "    <tr>\n",
       "      <th>2013-10-01</th>\n",
       "      <td>10</td>\n",
       "      <td>41.663871</td>\n",
       "      <td>55</td>\n",
       "    </tr>\n",
       "    <tr>\n",
       "      <th>2013-11-01</th>\n",
       "      <td>11</td>\n",
       "      <td>50.784500</td>\n",
       "      <td>56</td>\n",
       "    </tr>\n",
       "    <tr>\n",
       "      <th>2013-12-01</th>\n",
       "      <td>12</td>\n",
       "      <td>49.100000</td>\n",
       "      <td>57</td>\n",
       "    </tr>\n",
       "  </tbody>\n",
       "</table>\n",
       "</div>"
      ],
      "text/plain": [
       "           Month      Price  Time_seq\n",
       "Date                                 \n",
       "2013-08-01     8  74.991129        53\n",
       "2013-09-01     9  66.848000        54\n",
       "2013-10-01    10  41.663871        55\n",
       "2013-11-01    11  50.784500        56\n",
       "2013-12-01    12  49.100000        57"
      ]
     },
     "execution_count": 87,
     "metadata": {},
     "output_type": "execute_result"
    }
   ],
   "source": [
    "test.tail()"
   ]
  },
  {
   "cell_type": "code",
   "execution_count": 88,
   "id": "f008780b",
   "metadata": {},
   "outputs": [
    {
     "name": "stdout",
     "output_type": "stream",
     "text": [
      "*** Error metrics Train data ***\n",
      "MAE Train: 5.785880163652813\n",
      "MSE Train: 45.986038457535194\n",
      "RMSE Train: 6.78130064644941\n",
      "***\n",
      " Error metrics Test Data ***\n",
      "MAE Train: 8.685273145379467\n",
      "MSE Train: 101.59409087983494\n",
      "RMSE Train: 10.079389410070183\n"
     ]
    },
    {
     "data": {
      "text/html": [
       "<div>\n",
       "<style scoped>\n",
       "    .dataframe tbody tr th:only-of-type {\n",
       "        vertical-align: middle;\n",
       "    }\n",
       "\n",
       "    .dataframe tbody tr th {\n",
       "        vertical-align: top;\n",
       "    }\n",
       "\n",
       "    .dataframe thead th {\n",
       "        text-align: right;\n",
       "    }\n",
       "</style>\n",
       "<table border=\"1\" class=\"dataframe\">\n",
       "  <thead>\n",
       "    <tr style=\"text-align: right;\">\n",
       "      <th></th>\n",
       "    </tr>\n",
       "  </thead>\n",
       "  <tbody>\n",
       "  </tbody>\n",
       "</table>\n",
       "</div>"
      ],
      "text/plain": [
       "Empty DataFrame\n",
       "Columns: []\n",
       "Index: []"
      ]
     },
     "execution_count": 88,
     "metadata": {},
     "output_type": "execute_result"
    }
   ],
   "source": [
    "pd.DataFrame(error_metrics(train['Price'][2:], train.SMA_3[2:],test['Price'], sma_predict))"
   ]
  },
  {
   "cell_type": "markdown",
   "id": "236e193f",
   "metadata": {},
   "source": [
    "### Modelling the time series using Exponential moving averages (EMA)\n"
   ]
  },
  {
   "cell_type": "code",
   "execution_count": 89,
   "id": "30968eb6",
   "metadata": {},
   "outputs": [
    {
     "name": "stderr",
     "output_type": "stream",
     "text": [
      "C:\\Users\\gsk44\\AppData\\Local\\Temp\\ipykernel_18928\\1260519148.py:1: SettingWithCopyWarning: \n",
      "A value is trying to be set on a copy of a slice from a DataFrame.\n",
      "Try using .loc[row_indexer,col_indexer] = value instead\n",
      "\n",
      "See the caveats in the documentation: https://pandas.pydata.org/pandas-docs/stable/user_guide/indexing.html#returning-a-view-versus-a-copy\n",
      "  train['EMA_3'] = train.Price.ewm(span=window).mean()\n"
     ]
    }
   ],
   "source": [
    "train['EMA_3'] = train.Price.ewm(span=window).mean()\n"
   ]
  },
  {
   "cell_type": "code",
   "execution_count": 90,
   "id": "070708ad",
   "metadata": {},
   "outputs": [
    {
     "data": {
      "image/png": "[encoded data removed]",
      "text/plain": [
       "<Figure size 432x288 with 1 Axes>"
      ]
     },
     "metadata": {
      "needs_background": "light"
     },
     "output_type": "display_data"
    }
   ],
   "source": [
    "plt.plot(train.index,train.Price,'-o',label = 'original')\n",
    "plt.plot(train.index,train['EMA_3'],'-o', color='red',label = 'EMA Predictions')\n",
    "\n",
    "plt.title(\"Prediction using EMA\")\n",
    "plt.legend()\n",
    "plt.xticks(rotation=30)\n",
    "plt.show()"
   ]
  },
  {
   "cell_type": "markdown",
   "id": "c008da31",
   "metadata": {},
   "source": [
    "### Forecasting on testdata"
   ]
  },
  {
   "cell_type": "code",
   "execution_count": 91,
   "id": "f6dd74ab",
   "metadata": {},
   "outputs": [
    {
     "name": "stdout",
     "output_type": "stream",
     "text": [
      "range(45, 48)\n",
      "range(46, 49)\n",
      "range(47, 50)\n",
      "range(48, 51)\n",
      "range(49, 52)\n",
      "range(50, 53)\n",
      "range(51, 54)\n",
      "range(52, 55)\n",
      "range(53, 56)\n"
     ]
    }
   ],
   "source": [
    "history = list(train['EMA_3'].values)\n",
    "ema_predict = list()\n",
    "\n",
    "for t in range(len(test)):\n",
    "    length = len(history)\n",
    "    print(range(length-window,length))\n",
    "    yhat=np.mean(history[length-window:length])\n",
    "    ema_predict.append(yhat)\n",
    "    history.append(yhat)\n"
   ]
  },
  {
   "cell_type": "code",
   "execution_count": 92,
   "id": "de0aa4c2",
   "metadata": {},
   "outputs": [
    {
     "name": "stdout",
     "output_type": "stream",
     "text": [
      "*** Error metrics Train data ***\n",
      "MAE Train: 3.981017221745753\n",
      "MSE Train: 21.89093857329062\n",
      "RMSE Train: 4.678775328362179\n",
      "***\n",
      " Error metrics Test Data ***\n",
      "MAE Train: 8.965317633758003\n",
      "MSE Train: 108.37010442603233\n",
      "RMSE Train: 10.410096273619775\n"
     ]
    }
   ],
   "source": [
    "error_metrics(train['Price'][2:], train.EMA_3[2:],test['Price'], ema_predict)"
   ]
  },
  {
   "cell_type": "code",
   "execution_count": 93,
   "id": "ddd72cf5",
   "metadata": {},
   "outputs": [],
   "source": [
    "from statsmodels.tsa.api import ExponentialSmoothing, SimpleExpSmoothing, Holt\n"
   ]
  },
  {
   "cell_type": "markdown",
   "id": "06c6e226",
   "metadata": {},
   "source": [
    "## Holt Winter’s Exponential Smoothing\n",
    "Holt-Winters exponential smoothing with trend and additive seasonal component.\n",
    "\n"
   ]
  },
  {
   "cell_type": "code",
   "execution_count": 94,
   "id": "347bc7eb",
   "metadata": {
    "scrolled": false
   },
   "outputs": [
    {
     "data": {
      "image/png": "[encoded data removed]",
      "text/plain": [
       "<Figure size 1152x576 with 1 Axes>"
      ]
     },
     "metadata": {
      "needs_background": "light"
     },
     "output_type": "display_data"
    }
   ],
   "source": [
    "\n",
    "holt_exp_add = ExponentialSmoothing(np.asarray(train['Price']) ,seasonal_periods=12, seasonal='additive',).fit()\n",
    "model_forecast['Holt_Winter'] = holt_exp_add.forecast(len(test))\n",
    "plt.figure(figsize=(16,8))\n",
    "plt.plot( train['Price'], label='Train')\n",
    "plt.plot(test['Price'], label='Test')\n",
    "plt.plot(model_forecast['Holt_Winter'], label='Holt_Winter')\n",
    "plt.legend(loc='best')\n",
    "plt.show()"
   ]
  },
  {
   "cell_type": "code",
   "execution_count": 95,
   "id": "46664f46",
   "metadata": {},
   "outputs": [
    {
     "name": "stdout",
     "output_type": "stream",
     "text": [
      "*** Error metrics Train data ***\n",
      "MAE Train: 22.191892405453785\n",
      "MSE Train: 686.4239572145511\n",
      "RMSE Train: 26.199693838183514\n",
      "***\n",
      " Error metrics Test Data ***\n",
      "MAE Train: 5.088263382301346\n",
      "MSE Train: 34.671253438129476\n",
      "RMSE Train: 5.888230076867706\n"
     ]
    }
   ],
   "source": [
    "error_metrics(train['Price'][2:], holt_exp_add.forecast(len(train[2:])),test['Price'], \n",
    "              holt_exp_add.forecast(len(test)))\n"
   ]
  },
  {
   "cell_type": "markdown",
   "id": "c3c47f60",
   "metadata": {},
   "source": [
    "## Holt-Winters exponential smoothing additive trend with multiplicative seasonal component."
   ]
  },
  {
   "cell_type": "code",
   "execution_count": 96,
   "id": "10d625fd",
   "metadata": {},
   "outputs": [],
   "source": [
    "holt_exp_mul = ExponentialSmoothing(np.asarray(train['Price']) ,seasonal_periods=12 , seasonal='multiplicative',trend='add').fit()\n"
   ]
  },
  {
   "cell_type": "code",
   "execution_count": 97,
   "id": "3b46cd0e",
   "metadata": {},
   "outputs": [
    {
     "data": {
      "image/png": "[encoded data removed]",
      "text/plain": [
       "<Figure size 1152x576 with 1 Axes>"
      ]
     },
     "metadata": {
      "needs_background": "light"
     },
     "output_type": "display_data"
    }
   ],
   "source": [
    "model_forecast['Holt_Winter'] = holt_exp_mul.forecast(len(test))\n",
    "plt.figure(figsize=(16,8))\n",
    "plt.plot( train['Price'], label='Train')\n",
    "plt.plot(test['Price'], label='Test')\n",
    "plt.plot(model_forecast['Holt_Winter'], label='Holt_Winter')\n",
    "plt.legend(loc='best')\n",
    "plt.show()"
   ]
  },
  {
   "cell_type": "code",
   "execution_count": 98,
   "id": "5fbcc09b",
   "metadata": {},
   "outputs": [
    {
     "name": "stdout",
     "output_type": "stream",
     "text": [
      "*** Error metrics Train data ***\n",
      "MAE Train: 45.16256392265083\n",
      "MSE Train: 2129.988883716425\n",
      "RMSE Train: 46.1518026052767\n",
      "***\n",
      " Error metrics Test Data ***\n",
      "MAE Train: 10.605292083859531\n",
      "MSE Train: 149.96632585434168\n",
      "RMSE Train: 12.24607389551205\n"
     ]
    }
   ],
   "source": [
    "error_metrics(train['Price'][2:], holt_exp_mul.forecast(len(train[2:])),test['Price'], \n",
    "              holt_exp_mul.forecast(len(test)))\n",
    "\n"
   ]
  },
  {
   "cell_type": "code",
   "execution_count": null,
   "id": "55b27d77",
   "metadata": {},
   "outputs": [],
   "source": []
  },
  {
   "cell_type": "markdown",
   "id": "607fbfb3",
   "metadata": {},
   "source": [
    "## ACF and PACF"
   ]
  },
  {
   "cell_type": "code",
   "execution_count": 99,
   "id": "67668b54",
   "metadata": {},
   "outputs": [],
   "source": [
    "from statsmodels.graphics.tsaplots import plot_acf, plot_pacf\n"
   ]
  },
  {
   "cell_type": "code",
   "execution_count": 100,
   "id": "d359a6ec",
   "metadata": {},
   "outputs": [
    {
     "name": "stderr",
     "output_type": "stream",
     "text": [
      "C:\\Users\\gsk44\\anaconda3\\lib\\site-packages\\statsmodels\\graphics\\tsaplots.py:348: FutureWarning: The default method 'yw' can produce PACF values outside of the [-1,1] interval. After 0.13, the default will change tounadjusted Yule-Walker ('ywm'). You can use this method now by setting method='ywm'.\n",
      "  warnings.warn(\n"
     ]
    },
    {
     "data": {
      "image/png": "[encoded data removed]",
      "text/plain": [
       "<Figure size 432x288 with 1 Axes>"
      ]
     },
     "metadata": {
      "needs_background": "light"
     },
     "output_type": "display_data"
    },
    {
     "data": {
      "image/png": "[encoded data removed]",
      "text/plain": [
       "<Figure size 432x288 with 1 Axes>"
      ]
     },
     "metadata": {
      "needs_background": "light"
     },
     "output_type": "display_data"
    }
   ],
   "source": [
    "### ACF and PACF\n",
    "\n",
    "#### ACF: n th lag of ACF is the correlation between a day and n days before that. \n",
    "#PACF: The same as ACF with all intermediate correlations removed.\n",
    "\n",
    "#ACF\n",
    "plot_acf(train.Price, zero=True, lags=int(24*0.5))\n",
    "plt.axhline(y=-1.96/np.sqrt(len(train)), linestyle='--', color='gray')\n",
    "plt.axhline(y=1.96/np.sqrt(len(train)), linestyle='--',color='gray')\n",
    "\n",
    "#PACF\n",
    "plot_pacf(train.Price,zero=True,lags=int(24*0.5))\n",
    "plt.axhline(y=-1.96/np.sqrt(len(train)),linestyle='--',color='gray')\n",
    "plt.axhline(y=1.96/np.sqrt(len(train)),linestyle='--',color='gray')\n",
    "plt.show()\n",
    "\n"
   ]
  },
  {
   "cell_type": "markdown",
   "id": "e568b2e7",
   "metadata": {},
   "source": [
    "## Making the data stationary"
   ]
  },
  {
   "cell_type": "code",
   "execution_count": 101,
   "id": "b0a95ccb",
   "metadata": {},
   "outputs": [
    {
     "data": {
      "image/png": "[encoded data removed]",
      "text/plain": [
       "<Figure size 432x288 with 1 Axes>"
      ]
     },
     "metadata": {
      "needs_background": "light"
     },
     "output_type": "display_data"
    }
   ],
   "source": [
    "#### Looking at the Y scale in ACF we observe that both trend and seasonality is present.\n",
    "\n",
    "#### Stationarize by differencing\n",
    "\n",
    "# Before differencing\n",
    "plt.subplot(212)\n",
    "plt.plot(train.Price)\n",
    "plt.xticks(rotation=30)\n",
    "plt.title(\"Original data\")\n",
    "plt.show()\n",
    "\n",
    "\n"
   ]
  },
  {
   "cell_type": "code",
   "execution_count": 102,
   "id": "d1a368a0",
   "metadata": {},
   "outputs": [
    {
     "data": {
      "image/png": "[encoded data removed]",
      "text/plain": [
       "<Figure size 432x288 with 1 Axes>"
      ]
     },
     "metadata": {
      "needs_background": "light"
     },
     "output_type": "display_data"
    }
   ],
   "source": [
    "# After differencing\n",
    "plt.subplot(212)\n",
    "plt.plot(train.Price.diff(1))\n",
    "plt.xticks(rotation=30)\n",
    "plt.title(\"Seasonal Difference data\")\n",
    "plt.show()\n",
    "\n"
   ]
  },
  {
   "cell_type": "code",
   "execution_count": 103,
   "id": "4ecf57ab",
   "metadata": {},
   "outputs": [
    {
     "data": {
      "image/png": "[encoded data removed]",
      "text/plain": [
       "<Figure size 432x288 with 1 Axes>"
      ]
     },
     "metadata": {
      "needs_background": "light"
     },
     "output_type": "display_data"
    },
    {
     "data": {
      "image/png": "[encoded data removed]",
      "text/plain": [
       "<Figure size 432x288 with 1 Axes>"
      ]
     },
     "metadata": {
      "needs_background": "light"
     },
     "output_type": "display_data"
    }
   ],
   "source": [
    "#### ACF plot and PACF plt after differencing\n",
    "\n",
    "plot_acf(train.Price.diff(1).dropna(),zero=True,lags=12,title='Autocorrelation of differenced data')\n",
    "plt.axhline(y=-1.96/np.sqrt(len(train)),linestyle='--',color='gray')\n",
    "plt.axhline(y=1.96/np.sqrt(len(train)),linestyle='--',color='gray')\n",
    "\n",
    "plot_pacf(train.Price.diff(1).dropna(),zero=True,lags=12,title='PartialAutocorrelation of differenced data')\n",
    "plt.axhline(y=-1.96/np.sqrt(len(train)),linestyle='--',color='gray')\n",
    "plt.axhline(y=1.96/np.sqrt(len(train)),linestyle='--',color='gray')\n",
    "\n",
    "plt.show()\n",
    "\n"
   ]
  },
  {
   "cell_type": "code",
   "execution_count": 104,
   "id": "53195e53",
   "metadata": {
    "scrolled": true
   },
   "outputs": [
    {
     "name": "stderr",
     "output_type": "stream",
     "text": [
      "C:\\Users\\gsk44\\AppData\\Local\\Temp\\ipykernel_18928\\2430761030.py:3: FutureWarning: dtype lost in 'diff()'. In the future this will raise a TypeError. Convert to a suitable dtype prior to calling 'diff'.\n",
      "  plt.plot(train.index, train.diff(1).Price.values,'-o')\n"
     ]
    },
    {
     "data": {
      "image/png": "[encoded data removed]",
      "text/plain": [
       "<Figure size 432x288 with 1 Axes>"
      ]
     },
     "metadata": {
      "needs_background": "light"
     },
     "output_type": "display_data"
    }
   ],
   "source": [
    "#### Visualizing the differenced data\n",
    "\n",
    "plt.plot(train.index, train.diff(1).Price.values,'-o')\n",
    "plt.xticks(rotation = 60)\n",
    "plt.show()"
   ]
  },
  {
   "cell_type": "markdown",
   "id": "d198768a",
   "metadata": {},
   "source": [
    "## Statistical Tests"
   ]
  },
  {
   "cell_type": "code",
   "execution_count": 105,
   "id": "d905e18c",
   "metadata": {},
   "outputs": [],
   "source": [
    "from statsmodels.tsa.stattools import adfuller"
   ]
  },
  {
   "cell_type": "code",
   "execution_count": 106,
   "id": "ba1602e6",
   "metadata": {},
   "outputs": [],
   "source": [
    "#Ho: It is non stationary\n",
    "#H1: It is stationary\n",
    "\n",
    "def adfuller_test(sales):\n",
    "    result=adfuller(sales)\n",
    "    labels = ['ADF Test Statistic','p-value','#Lags Used','Number of Observations Used']\n",
    "    for value,label in zip(result,labels):\n",
    "        print(label+' : '+str(value) )\n",
    "    if result[1] <= 0.05:\n",
    "        print(\"strong evidence against the null hypothesis(Ho), reject the null hypothesis. Data has no unit root and is stationary\")\n",
    "    else:\n",
    "        print(\"weak evidence against null hypothesis, time series has a unit root, indicating it is non-stationary \")\n",
    "    "
   ]
  },
  {
   "cell_type": "code",
   "execution_count": 107,
   "id": "48afab6b",
   "metadata": {},
   "outputs": [
    {
     "name": "stdout",
     "output_type": "stream",
     "text": [
      "ADF Test Statistic : -0.5563647080341144\n",
      "p-value : 0.8805401783657376\n",
      "#Lags Used : 9\n",
      "Number of Observations Used : 38\n",
      "weak evidence against null hypothesis, time series has a unit root, indicating it is non-stationary \n"
     ]
    }
   ],
   "source": [
    "adfuller_test(train['Price'])"
   ]
  },
  {
   "cell_type": "code",
   "execution_count": 108,
   "id": "a7a6430b",
   "metadata": {},
   "outputs": [
    {
     "name": "stdout",
     "output_type": "stream",
     "text": [
      "ADF Test Statistic : -4.675071090602693\n",
      "p-value : 9.371071798731859e-05\n",
      "#Lags Used : 10\n",
      "Number of Observations Used : 36\n",
      "strong evidence against the null hypothesis(Ho), reject the null hypothesis. Data has no unit root and is stationary\n"
     ]
    }
   ],
   "source": [
    "adfuller_test(train['Price'].diff(1)[1:])"
   ]
  },
  {
   "cell_type": "markdown",
   "id": "7aeebbf3",
   "metadata": {},
   "source": [
    "## ARIMA Model"
   ]
  },
  {
   "cell_type": "code",
   "execution_count": 109,
   "id": "1c1a5540",
   "metadata": {},
   "outputs": [],
   "source": [
    "from statsmodels.tsa.arima.model import ARIMA"
   ]
  },
  {
   "cell_type": "code",
   "execution_count": 110,
   "id": "a1805bd6",
   "metadata": {},
   "outputs": [],
   "source": [
    "\n",
    "# AR(p=2 ) = y t  =  alpha + Beta1 * y(t-1) + Beta2 * y(t-2)+ error(t-1) + Beta2 * error(t-2) "
   ]
  },
  {
   "cell_type": "code",
   "execution_count": 111,
   "id": "173c183d",
   "metadata": {},
   "outputs": [
    {
     "name": "stderr",
     "output_type": "stream",
     "text": [
      "C:\\Users\\gsk44\\anaconda3\\lib\\site-packages\\statsmodels\\tsa\\statespace\\sarimax.py:978: UserWarning: Non-invertible starting MA parameters found. Using zeros as starting parameters.\n",
      "  warn('Non-invertible starting MA parameters found.'\n"
     ]
    },
    {
     "name": "stdout",
     "output_type": "stream",
     "text": [
      "                               SARIMAX Results                                \n",
      "==============================================================================\n",
      "Dep. Variable:                      y   No. Observations:                   48\n",
      "Model:                 ARIMA(2, 1, 1)   Log Likelihood                -164.031\n",
      "Date:                Tue, 20 Jun 2023   AIC                            336.062\n",
      "Time:                        09:58:57   BIC                            343.463\n",
      "Sample:                             0   HQIC                           338.847\n",
      "                                 - 48                                         \n",
      "Covariance Type:                  opg                                         \n",
      "==============================================================================\n",
      "                 coef    std err          z      P>|z|      [0.025      0.975]\n",
      "------------------------------------------------------------------------------\n",
      "ar.L1          0.8634      0.193      4.465      0.000       0.484       1.242\n",
      "ar.L2         -0.4674      0.198     -2.364      0.018      -0.855      -0.080\n",
      "ma.L1         -0.7555      0.222     -3.410      0.001      -1.190      -0.321\n",
      "sigma2        61.8919     10.851      5.704      0.000      40.624      83.160\n",
      "===================================================================================\n",
      "Ljung-Box (L1) (Q):                   0.75   Jarque-Bera (JB):                 1.97\n",
      "Prob(Q):                              0.39   Prob(JB):                         0.37\n",
      "Heteroskedasticity (H):               0.86   Skew:                            -0.01\n",
      "Prob(H) (two-sided):                  0.76   Kurtosis:                         4.00\n",
      "===================================================================================\n",
      "\n",
      "Warnings:\n",
      "[1] Covariance matrix calculated using the outer product of gradients (complex-step).\n"
     ]
    }
   ],
   "source": [
    "model_arima = ARIMA(train['Price'].values, order=(2,1,1))\n",
    "model_arima_fit = model_arima.fit()\n",
    "print(model_arima_fit.summary())"
   ]
  },
  {
   "cell_type": "code",
   "execution_count": 112,
   "id": "bc10be9d",
   "metadata": {},
   "outputs": [
    {
     "name": "stdout",
     "output_type": "stream",
     "text": [
      "[45.53391968 51.71839839 56.34615525 57.45087886 56.24150648 54.68095338\n",
      " 53.89888665 53.95311505 54.36550229]\n"
     ]
    }
   ],
   "source": [
    "model_arima_forecast = model_arima_fit.forecast(steps = len(test))\n",
    "print(model_arima_forecast)"
   ]
  },
  {
   "cell_type": "code",
   "execution_count": 113,
   "id": "b342663f",
   "metadata": {},
   "outputs": [
    {
     "data": {
      "image/png": "[encoded data removed]",
      "text/plain": [
       "<Figure size 1152x576 with 1 Axes>"
      ]
     },
     "metadata": {
      "needs_background": "light"
     },
     "output_type": "display_data"
    }
   ],
   "source": [
    "model_forecast['ARIMA'] = model_arima_forecast\n",
    "plt.figure(figsize=(16,8))\n",
    "plt.plot( train['Price'], label='Train')\n",
    "plt.plot(test['Price'], label='Test')\n",
    "plt.plot(model_forecast['ARIMA'], label='ARIMA')\n",
    "plt.legend(loc='best')\n",
    "plt.show()"
   ]
  },
  {
   "cell_type": "code",
   "execution_count": 114,
   "id": "76d3ab14",
   "metadata": {},
   "outputs": [
    {
     "name": "stdout",
     "output_type": "stream",
     "text": [
      "*** Error metrics Train data ***\n",
      "MAE Train: 22.15440791377877\n",
      "MSE Train: 699.0175087544868\n",
      "RMSE Train: 26.438939251688726\n",
      "***\n",
      " Error metrics Test Data ***\n",
      "MAE Train: 7.9266246731688135\n",
      "MSE Train: 88.12097445054776\n",
      "RMSE Train: 9.387277265029928\n"
     ]
    }
   ],
   "source": [
    "error_metrics(train['Price'], model_arima_fit.forecast(steps = len(train)),test['Price'], \n",
    "              model_arima_fit.forecast(len(test)))\n"
   ]
  },
  {
   "cell_type": "markdown",
   "id": "ddebf661",
   "metadata": {},
   "source": [
    "## SARIMA Models"
   ]
  },
  {
   "cell_type": "code",
   "execution_count": 115,
   "id": "9b8c0b83",
   "metadata": {
    "scrolled": true
   },
   "outputs": [
    {
     "name": "stderr",
     "output_type": "stream",
     "text": [
      "C:\\Users\\gsk44\\anaconda3\\lib\\site-packages\\statsmodels\\tsa\\statespace\\sarimax.py:1009: UserWarning: Non-invertible starting seasonal moving average Using zeros as starting parameters.\n",
      "  warn('Non-invertible starting seasonal moving average'\n"
     ]
    },
    {
     "name": "stdout",
     "output_type": "stream",
     "text": [
      "                                    SARIMAX Results                                     \n",
      "========================================================================================\n",
      "Dep. Variable:                                y   No. Observations:                   48\n",
      "Model:             ARIMA(1, 0, 1)x(1, 0, 1, 12)   Log Likelihood                -162.051\n",
      "Date:                          Tue, 20 Jun 2023   AIC                            336.101\n",
      "Time:                                  09:58:58   BIC                            347.329\n",
      "Sample:                                       0   HQIC                           340.344\n",
      "                                           - 48                                         \n",
      "Covariance Type:                            opg                                         \n",
      "==============================================================================\n",
      "                 coef    std err          z      P>|z|      [0.025      0.975]\n",
      "------------------------------------------------------------------------------\n",
      "const         74.2849      9.432      7.876      0.000      55.799      92.771\n",
      "ar.L1          0.6802      0.164      4.144      0.000       0.359       1.002\n",
      "ma.L1          0.4571      0.174      2.632      0.008       0.117       0.797\n",
      "ar.S.L12       0.3656      0.364      1.005      0.315      -0.348       1.079\n",
      "ma.S.L12       0.3335      0.577      0.578      0.563      -0.797       1.464\n",
      "sigma2        43.0320     13.501      3.187      0.001      16.570      69.494\n",
      "===================================================================================\n",
      "Ljung-Box (L1) (Q):                   0.02   Jarque-Bera (JB):                 3.22\n",
      "Prob(Q):                              0.89   Prob(JB):                         0.20\n",
      "Heteroskedasticity (H):               0.73   Skew:                             0.59\n",
      "Prob(H) (two-sided):                  0.54   Kurtosis:                         3.44\n",
      "===================================================================================\n",
      "\n",
      "Warnings:\n",
      "[1] Covariance matrix calculated using the outer product of gradients (complex-step).\n"
     ]
    }
   ],
   "source": [
    "model_sarima = ARIMA(train['Price'].values, order=(1,0,1),seasonal_order=(1,0,1,12))\n",
    "model_sarima_fit = model_sarima.fit()\n",
    "print(model_sarima_fit.summary())"
   ]
  },
  {
   "cell_type": "code",
   "execution_count": 116,
   "id": "7f813baa",
   "metadata": {},
   "outputs": [
    {
     "name": "stdout",
     "output_type": "stream",
     "text": [
      "[53.05722169 60.80554243 65.5124161  68.21621567 69.35155791 62.78390898\n",
      " 61.1458952  62.26832319 63.78192923]\n"
     ]
    }
   ],
   "source": [
    "model_sarima_forecast = model_sarima_fit.forecast(steps = len(test))\n",
    "print(model_sarima_forecast)"
   ]
  },
  {
   "cell_type": "code",
   "execution_count": 117,
   "id": "b3af15fa",
   "metadata": {},
   "outputs": [
    {
     "data": {
      "image/png": "[encoded data removed]",
      "text/plain": [
       "<Figure size 1152x576 with 1 Axes>"
      ]
     },
     "metadata": {
      "needs_background": "light"
     },
     "output_type": "display_data"
    }
   ],
   "source": [
    "model_forecast['SARIMA'] = model_sarima_forecast\n",
    "plt.figure(figsize=(16,8))\n",
    "plt.plot( train['Price'], label='Train')\n",
    "plt.plot(test['Price'], label='Test')\n",
    "plt.plot(model_forecast['SARIMA'], label='SARIMA')\n",
    "plt.legend(loc='best')\n",
    "plt.show()"
   ]
  },
  {
   "cell_type": "code",
   "execution_count": 118,
   "id": "d101deb6",
   "metadata": {},
   "outputs": [
    {
     "name": "stderr",
     "output_type": "stream",
     "text": [
      "C:\\Users\\gsk44\\anaconda3\\lib\\site-packages\\statsmodels\\tsa\\statespace\\sarimax.py:866: UserWarning: Too few observations to estimate starting parameters for seasonal ARMA. All parameters except for variances will be set to zeros.\n",
      "  warn('Too few observations to estimate starting parameters%s.'\n"
     ]
    },
    {
     "name": "stdout",
     "output_type": "stream",
     "text": [
      "                                    SARIMAX Results                                     \n",
      "========================================================================================\n",
      "Dep. Variable:                                y   No. Observations:                   48\n",
      "Model:             ARIMA(1, 1, 1)x(1, 1, 1, 12)   Log Likelihood                -117.747\n",
      "Date:                          Tue, 20 Jun 2023   AIC                            245.493\n",
      "Time:                                  09:58:59   BIC                            253.270\n",
      "Sample:                                       0   HQIC                           248.178\n",
      "                                           - 48                                         \n",
      "Covariance Type:                            opg                                         \n",
      "==============================================================================\n",
      "                 coef    std err          z      P>|z|      [0.025      0.975]\n",
      "------------------------------------------------------------------------------\n",
      "ar.L1          0.4954      0.310      1.598      0.110      -0.112       1.103\n",
      "ma.L1         -0.9997    128.000     -0.008      0.994    -251.874     249.875\n",
      "ar.S.L12      -0.0475      0.643     -0.074      0.941      -1.307       1.212\n",
      "ma.S.L12      -0.9984    391.333     -0.003      0.998    -767.998     766.001\n",
      "sigma2        27.1766   1.11e+04      0.002      0.998   -2.17e+04    2.18e+04\n",
      "===================================================================================\n",
      "Ljung-Box (L1) (Q):                   1.92   Jarque-Bera (JB):                 0.84\n",
      "Prob(Q):                              0.17   Prob(JB):                         0.66\n",
      "Heteroskedasticity (H):               0.37   Skew:                             0.01\n",
      "Prob(H) (two-sided):                  0.10   Kurtosis:                         3.76\n",
      "===================================================================================\n",
      "\n",
      "Warnings:\n",
      "[1] Covariance matrix calculated using the outer product of gradients (complex-step).\n",
      "[40.99901423 49.74032859 56.00338231 58.54557935 64.4343094  52.72763847\n",
      " 45.35304216 43.90615952 47.75135231]\n"
     ]
    },
    {
     "data": {
      "image/png": "[encoded data removed]",
      "text/plain": [
       "<Figure size 1152x576 with 1 Axes>"
      ]
     },
     "metadata": {
      "needs_background": "light"
     },
     "output_type": "display_data"
    }
   ],
   "source": [
    "model_sarima = ARIMA(train['Price'].values, order=(1,1,1),seasonal_order=(1,1,1,12))\n",
    "model_sarima_fit = model_sarima.fit()\n",
    "print(model_sarima_fit.summary())\n",
    "model_sarima_forecast = model_sarima_fit.forecast(steps = len(test))\n",
    "print(model_sarima_forecast)\n",
    "model_forecast['SARIMA'] = model_sarima_forecast\n",
    "plt.figure(figsize=(16,8))\n",
    "plt.plot( train['Price'], label='Train')\n",
    "plt.plot(test['Price'], label='Test')\n",
    "plt.plot(model_forecast['SARIMA'], label='SARIMA')\n",
    "plt.legend(loc='best')\n",
    "plt.show()"
   ]
  },
  {
   "cell_type": "code",
   "execution_count": 119,
   "id": "788710ac",
   "metadata": {},
   "outputs": [
    {
     "data": {
      "text/plain": [
       "Date\n",
       "2013-04-01    48.792000\n",
       "2013-05-01    56.641290\n",
       "2013-06-01    63.586333\n",
       "2013-07-01    61.783548\n",
       "2013-08-01    74.991129\n",
       "2013-09-01    66.848000\n",
       "2013-10-01    41.663871\n",
       "2013-11-01    50.784500\n",
       "2013-12-01    49.100000\n",
       "Name: Price, dtype: float64"
      ]
     },
     "execution_count": 119,
     "metadata": {},
     "output_type": "execute_result"
    }
   ],
   "source": [
    "test.Price"
   ]
  },
  {
   "cell_type": "code",
   "execution_count": 120,
   "id": "dd53b47e",
   "metadata": {},
   "outputs": [
    {
     "name": "stdout",
     "output_type": "stream",
     "text": [
      "*** Error metrics Train data ***\n",
      "MAE Train: 43.388651252283466\n",
      "MSE Train: 1908.8099765869822\n",
      "RMSE Train: 43.68992992197381\n",
      "***\n",
      " Error metrics Test Data ***\n",
      "MAE Train: 6.900912009681718\n",
      "MSE Train: 61.10121585630322\n",
      "RMSE Train: 7.8167266714593024\n"
     ]
    }
   ],
   "source": [
    "error_metrics(train['Price'], model_sarima_fit.forecast(steps=len(train)),test['Price'], \n",
    "              model_sarima_fit.forecast(steps=len(test)))\n"
   ]
  },
  {
   "cell_type": "code",
   "execution_count": 121,
   "id": "1809f8b6",
   "metadata": {},
   "outputs": [
    {
     "name": "stdout",
     "output_type": "stream",
     "text": [
      "*** Error metrics Train data ***\n",
      "MAE Train: 43.388651252283466\n",
      "MSE Train: 1908.8099765869822\n",
      "RMSE Train: 43.68992992197381\n",
      "***\n",
      " Error metrics Test Data ***\n",
      "MAE Train: 6.900912009681718\n",
      "MSE Train: 61.10121585630322\n",
      "RMSE Train: 7.8167266714593024\n"
     ]
    }
   ],
   "source": [
    "error_metrics(train['Price'], model_sarima_fit.forecast(steps=len(train)),test['Price'], \n",
    "              model_sarima_fit.forecast(steps=len(test)))\n"
   ]
  },
  {
   "cell_type": "code",
   "execution_count": 122,
   "id": "b624d3be",
   "metadata": {},
   "outputs": [
    {
     "name": "stdout",
     "output_type": "stream",
     "text": [
      "*** Error metrics Train data ***\n",
      "MAE Train: 43.388651252283466\n",
      "MSE Train: 1908.8099765869822\n",
      "RMSE Train: 43.68992992197381\n",
      "***\n",
      " Error metrics Test Data ***\n",
      "MAE Train: 6.900912009681718\n",
      "MSE Train: 61.10121585630322\n",
      "RMSE Train: 7.8167266714593024\n"
     ]
    }
   ],
   "source": [
    "error_metrics(train['Price'], model_sarima_fit.forecast(steps=len(train)),test['Price'], \n",
    "              model_sarima_fit.forecast(steps=len(test)))\n"
   ]
  },
  {
   "cell_type": "code",
   "execution_count": 123,
   "id": "a1022743",
   "metadata": {},
   "outputs": [
    {
     "data": {
      "text/html": [
       "<div>\n",
       "<style scoped>\n",
       "    .dataframe tbody tr th:only-of-type {\n",
       "        vertical-align: middle;\n",
       "    }\n",
       "\n",
       "    .dataframe tbody tr th {\n",
       "        vertical-align: top;\n",
       "    }\n",
       "\n",
       "    .dataframe thead th {\n",
       "        text-align: right;\n",
       "    }\n",
       "</style>\n",
       "<table border=\"1\" class=\"dataframe\">\n",
       "  <thead>\n",
       "    <tr style=\"text-align: right;\">\n",
       "      <th></th>\n",
       "      <th>Month</th>\n",
       "      <th>Price</th>\n",
       "      <th>Time_seq</th>\n",
       "      <th>moving_avg_forecast</th>\n",
       "      <th>Holt_Winter</th>\n",
       "      <th>ARIMA</th>\n",
       "      <th>SARIMA</th>\n",
       "    </tr>\n",
       "    <tr>\n",
       "      <th>Date</th>\n",
       "      <th></th>\n",
       "      <th></th>\n",
       "      <th></th>\n",
       "      <th></th>\n",
       "      <th></th>\n",
       "      <th></th>\n",
       "      <th></th>\n",
       "    </tr>\n",
       "  </thead>\n",
       "  <tbody>\n",
       "    <tr>\n",
       "      <th>2013-04-01</th>\n",
       "      <td>4</td>\n",
       "      <td>48.792000</td>\n",
       "      <td>49</td>\n",
       "      <td>57.336863</td>\n",
       "      <td>42.072675</td>\n",
       "      <td>45.533920</td>\n",
       "      <td>40.999014</td>\n",
       "    </tr>\n",
       "    <tr>\n",
       "      <th>2013-05-01</th>\n",
       "      <td>5</td>\n",
       "      <td>56.641290</td>\n",
       "      <td>50</td>\n",
       "      <td>56.774336</td>\n",
       "      <td>47.613911</td>\n",
       "      <td>51.718398</td>\n",
       "      <td>49.740329</td>\n",
       "    </tr>\n",
       "    <tr>\n",
       "      <th>2013-06-01</th>\n",
       "      <td>6</td>\n",
       "      <td>63.586333</td>\n",
       "      <td>51</td>\n",
       "      <td>56.055940</td>\n",
       "      <td>50.884387</td>\n",
       "      <td>56.346155</td>\n",
       "      <td>56.003382</td>\n",
       "    </tr>\n",
       "    <tr>\n",
       "      <th>2013-07-01</th>\n",
       "      <td>7</td>\n",
       "      <td>61.783548</td>\n",
       "      <td>52</td>\n",
       "      <td>56.722379</td>\n",
       "      <td>51.741229</td>\n",
       "      <td>57.450879</td>\n",
       "      <td>58.545579</td>\n",
       "    </tr>\n",
       "    <tr>\n",
       "      <th>2013-08-01</th>\n",
       "      <td>8</td>\n",
       "      <td>74.991129</td>\n",
       "      <td>53</td>\n",
       "      <td>56.517552</td>\n",
       "      <td>53.985930</td>\n",
       "      <td>56.241506</td>\n",
       "      <td>64.434309</td>\n",
       "    </tr>\n",
       "    <tr>\n",
       "      <th>2013-09-01</th>\n",
       "      <td>9</td>\n",
       "      <td>66.848000</td>\n",
       "      <td>54</td>\n",
       "      <td>56.431957</td>\n",
       "      <td>46.935807</td>\n",
       "      <td>54.680953</td>\n",
       "      <td>52.727638</td>\n",
       "    </tr>\n",
       "    <tr>\n",
       "      <th>2013-10-01</th>\n",
       "      <td>10</td>\n",
       "      <td>41.663871</td>\n",
       "      <td>55</td>\n",
       "      <td>56.557296</td>\n",
       "      <td>42.445140</td>\n",
       "      <td>53.898887</td>\n",
       "      <td>45.353042</td>\n",
       "    </tr>\n",
       "    <tr>\n",
       "      <th>2013-11-01</th>\n",
       "      <td>11</td>\n",
       "      <td>50.784500</td>\n",
       "      <td>56</td>\n",
       "      <td>56.502268</td>\n",
       "      <td>41.403506</td>\n",
       "      <td>53.953115</td>\n",
       "      <td>43.906160</td>\n",
       "    </tr>\n",
       "    <tr>\n",
       "      <th>2013-12-01</th>\n",
       "      <td>12</td>\n",
       "      <td>49.100000</td>\n",
       "      <td>57</td>\n",
       "      <td>56.497174</td>\n",
       "      <td>43.222996</td>\n",
       "      <td>54.365502</td>\n",
       "      <td>47.751352</td>\n",
       "    </tr>\n",
       "  </tbody>\n",
       "</table>\n",
       "</div>"
      ],
      "text/plain": [
       "           Month      Price  Time_seq  moving_avg_forecast  Holt_Winter  \\\n",
       "Date                                                                      \n",
       "2013-04-01     4  48.792000        49            57.336863    42.072675   \n",
       "2013-05-01     5  56.641290        50            56.774336    47.613911   \n",
       "2013-06-01     6  63.586333        51            56.055940    50.884387   \n",
       "2013-07-01     7  61.783548        52            56.722379    51.741229   \n",
       "2013-08-01     8  74.991129        53            56.517552    53.985930   \n",
       "2013-09-01     9  66.848000        54            56.431957    46.935807   \n",
       "2013-10-01    10  41.663871        55            56.557296    42.445140   \n",
       "2013-11-01    11  50.784500        56            56.502268    41.403506   \n",
       "2013-12-01    12  49.100000        57            56.497174    43.222996   \n",
       "\n",
       "                ARIMA     SARIMA  \n",
       "Date                              \n",
       "2013-04-01  45.533920  40.999014  \n",
       "2013-05-01  51.718398  49.740329  \n",
       "2013-06-01  56.346155  56.003382  \n",
       "2013-07-01  57.450879  58.545579  \n",
       "2013-08-01  56.241506  64.434309  \n",
       "2013-09-01  54.680953  52.727638  \n",
       "2013-10-01  53.898887  45.353042  \n",
       "2013-11-01  53.953115  43.906160  \n",
       "2013-12-01  54.365502  47.751352  "
      ]
     },
     "execution_count": 123,
     "metadata": {},
     "output_type": "execute_result"
    }
   ],
   "source": [
    "model_forecast"
   ]
  },
  {
   "cell_type": "code",
   "execution_count": 130,
   "id": "380f4165",
   "metadata": {},
   "outputs": [
    {
     "name": "stdout",
     "output_type": "stream",
     "text": [
      "Collecting pmdarima\n",
      "  Downloading pmdarima-2.0.3-cp39-cp39-win_amd64.whl (572 kB)\n",
      "Requirement already satisfied: pandas>=0.19 in c:\\users\\gsk44\\anaconda3\\lib\\site-packages (from pmdarima) (1.4.2)\n",
      "Requirement already satisfied: Cython!=0.29.18,!=0.29.31,>=0.29 in c:\\users\\gsk44\\anaconda3\\lib\\site-packages (from pmdarima) (0.29.28)\n",
      "Requirement already satisfied: setuptools!=50.0.0,>=38.6.0 in c:\\users\\gsk44\\anaconda3\\lib\\site-packages (from pmdarima) (61.2.0)\n",
      "Requirement already satisfied: statsmodels>=0.13.2 in c:\\users\\gsk44\\anaconda3\\lib\\site-packages (from pmdarima) (0.13.2)\n",
      "Requirement already satisfied: joblib>=0.11 in c:\\users\\gsk44\\anaconda3\\lib\\site-packages (from pmdarima) (1.2.0)\n",
      "Requirement already satisfied: scikit-learn>=0.22 in c:\\users\\gsk44\\anaconda3\\lib\\site-packages (from pmdarima) (1.0.2)\n",
      "Requirement already satisfied: scipy>=1.3.2 in c:\\users\\gsk44\\anaconda3\\lib\\site-packages (from pmdarima) (1.9.3)\n",
      "Requirement already satisfied: numpy>=1.21.2 in c:\\users\\gsk44\\anaconda3\\lib\\site-packages (from pmdarima) (1.21.5)\n",
      "Requirement already satisfied: urllib3 in c:\\users\\gsk44\\anaconda3\\lib\\site-packages (from pmdarima) (1.26.9)\n",
      "Requirement already satisfied: pytz>=2020.1 in c:\\users\\gsk44\\anaconda3\\lib\\site-packages (from pandas>=0.19->pmdarima) (2022.7.1)\n",
      "Requirement already satisfied: python-dateutil>=2.8.1 in c:\\users\\gsk44\\anaconda3\\lib\\site-packages (from pandas>=0.19->pmdarima) (2.8.2)\n",
      "Requirement already satisfied: six>=1.5 in c:\\users\\gsk44\\anaconda3\\lib\\site-packages (from python-dateutil>=2.8.1->pandas>=0.19->pmdarima) (1.16.0)\n",
      "Requirement already satisfied: threadpoolctl>=2.0.0 in c:\\users\\gsk44\\anaconda3\\lib\\site-packages (from scikit-learn>=0.22->pmdarima) (2.2.0)\n",
      "Requirement already satisfied: patsy>=0.5.2 in c:\\users\\gsk44\\anaconda3\\lib\\site-packages (from statsmodels>=0.13.2->pmdarima) (0.5.2)\n",
      "Requirement already satisfied: packaging>=21.3 in c:\\users\\gsk44\\anaconda3\\lib\\site-packages (from statsmodels>=0.13.2->pmdarima) (21.3)\n",
      "Requirement already satisfied: pyparsing!=3.0.5,>=2.0.2 in c:\\users\\gsk44\\anaconda3\\lib\\site-packages (from packaging>=21.3->statsmodels>=0.13.2->pmdarima) (3.0.4)\n",
      "Installing collected packages: pmdarima\n",
      "Successfully installed pmdarima-2.0.3\n"
     ]
    }
   ],
   "source": [
    "!pip install pmdarima"
   ]
  },
  {
   "cell_type": "markdown",
   "id": "dde45d00",
   "metadata": {},
   "source": [
    "### Auto ARIMA Models"
   ]
  },
  {
   "cell_type": "code",
   "execution_count": 131,
   "id": "8aa2818d",
   "metadata": {},
   "outputs": [],
   "source": [
    "from pmdarima.arima import auto_arima"
   ]
  },
  {
   "cell_type": "code",
   "execution_count": 132,
   "id": "7df01d41",
   "metadata": {},
   "outputs": [
    {
     "name": "stdout",
     "output_type": "stream",
     "text": [
      "                               SARIMAX Results                                \n",
      "==============================================================================\n",
      "Dep. Variable:                      y   No. Observations:                   48\n",
      "Model:               SARIMAX(2, 1, 2)   Log Likelihood                -156.215\n",
      "Date:                Tue, 20 Jun 2023   AIC                            324.431\n",
      "Time:                        09:59:49   BIC                            335.532\n",
      "Sample:                    04-01-2009   HQIC                           328.608\n",
      "                         - 03-01-2013                                         \n",
      "Covariance Type:                  opg                                         \n",
      "==============================================================================\n",
      "                 coef    std err          z      P>|z|      [0.025      0.975]\n",
      "------------------------------------------------------------------------------\n",
      "intercept     -0.3507      0.098     -3.581      0.000      -0.543      -0.159\n",
      "ar.L1          1.3614      0.163      8.361      0.000       1.042       1.681\n",
      "ar.L2         -0.7506      0.120     -6.233      0.000      -0.987      -0.515\n",
      "ma.L1         -1.9710     11.720     -0.168      0.866     -24.941      20.999\n",
      "ma.L2          0.9720     11.359      0.086      0.932     -21.290      23.234\n",
      "sigma2        36.3150    430.217      0.084      0.933    -806.894     879.525\n",
      "===================================================================================\n",
      "Ljung-Box (L1) (Q):                   0.37   Jarque-Bera (JB):                 0.88\n",
      "Prob(Q):                              0.54   Prob(JB):                         0.64\n",
      "Heteroskedasticity (H):               0.85   Skew:                             0.33\n",
      "Prob(H) (two-sided):                  0.75   Kurtosis:                         3.16\n",
      "===================================================================================\n",
      "\n",
      "Warnings:\n",
      "[1] Covariance matrix calculated using the outer product of gradients (complex-step).\n"
     ]
    }
   ],
   "source": [
    "model_autoArima = auto_arima(y=train['Price'])\n",
    "print(model_autoArima.summary())"
   ]
  },
  {
   "cell_type": "code",
   "execution_count": 133,
   "id": "435ed312",
   "metadata": {},
   "outputs": [],
   "source": [
    "train_pred = model_autoArima.predict(n_periods=len(train))\n",
    "test_pred = model_autoArima.predict(n_periods=len(test))"
   ]
  },
  {
   "cell_type": "code",
   "execution_count": 134,
   "id": "5d6d4741",
   "metadata": {},
   "outputs": [
    {
     "data": {
      "image/png": "[encoded data removed]",
      "text/plain": [
       "<Figure size 1152x576 with 1 Axes>"
      ]
     },
     "metadata": {
      "needs_background": "light"
     },
     "output_type": "display_data"
    }
   ],
   "source": [
    "model_forecast['AUTO_ARIMA'] = test_pred\n",
    "plt.figure(figsize=(16,8))\n",
    "plt.plot( train['Price'], label='Train')\n",
    "plt.plot(test['Price'], label='Test')\n",
    "plt.plot(model_forecast['AUTO_ARIMA'], label='AUTO_ARIMA')\n",
    "plt.legend(loc='best')\n",
    "plt.show()"
   ]
  },
  {
   "cell_type": "code",
   "execution_count": 135,
   "id": "5f7c0fd5",
   "metadata": {},
   "outputs": [
    {
     "name": "stdout",
     "output_type": "stream",
     "text": [
      "*** Error metrics Train data ***\n",
      "MAE Train: 43.55414809084599\n",
      "MSE Train: 1974.5214181027077\n",
      "RMSE Train: 44.435587293325014\n",
      "***\n",
      " Error metrics Test Data ***\n",
      "MAE Train: 8.945762916666789\n",
      "MSE Train: 105.49749024650424\n",
      "RMSE Train: 10.271197118471841\n"
     ]
    }
   ],
   "source": [
    "error_metrics(train['Price'], train_pred,test['Price'], \n",
    "              test_pred)\n"
   ]
  },
  {
   "cell_type": "code",
   "execution_count": null,
   "id": "d57dde98",
   "metadata": {},
   "outputs": [],
   "source": []
  },
  {
   "cell_type": "code",
   "execution_count": null,
   "id": "eddd3ec4",
   "metadata": {},
   "outputs": [],
   "source": []
  }
 ],
 "metadata": {
  "kernelspec": {
   "display_name": "Python 3 (ipykernel)",
   "language": "python",
   "name": "python3"
  },
  "language_info": {
   "codemirror_mode": {
    "name": "ipython",
    "version": 3
   },
   "file_extension": ".py",
   "mimetype": "text/x-python",
   "name": "python",
   "nbconvert_exporter": "python",
   "pygments_lexer": "ipython3",
   "version": "3.9.12"
  }
 },
 "nbformat": 4,
 "nbformat_minor": 5
}
